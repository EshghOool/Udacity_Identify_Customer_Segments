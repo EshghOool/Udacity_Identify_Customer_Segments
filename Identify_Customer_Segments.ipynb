{
 "cells": [
  {
   "cell_type": "markdown",
   "metadata": {},
   "source": [
    "# Project: Identify Customer Segments\n",
    "\n",
    "In this project, you will apply unsupervised learning techniques to identify segments of the population that form the core customer base for a mail-order sales company in Germany. These segments can then be used to direct marketing campaigns towards audiences that will have the highest expected rate of returns. The data that you will use has been provided by our partners at Bertelsmann Arvato Analytics, and represents a real-life data science task.\n",
    "\n",
    "This notebook will help you complete this task by providing a framework within which you will perform your analysis steps. In each step of the project, you will see some text describing the subtask that you will perform, followed by one or more code cells for you to complete your work. **Feel free to add additional code and markdown cells as you go along so that you can explore everything in precise chunks.** The code cells provided in the base template will outline only the major tasks, and will usually not be enough to cover all of the minor tasks that comprise it.\n",
    "\n",
    "It should be noted that while there will be precise guidelines on how you should handle certain tasks in the project, there will also be places where an exact specification is not provided. **There will be times in the project where you will need to make and justify your own decisions on how to treat the data.** These are places where there may not be only one way to handle the data. In real-life tasks, there may be many valid ways to approach an analysis task. One of the most important things you can do is clearly document your approach so that other scientists can understand the decisions you've made.\n",
    "\n",
    "At the end of most sections, there will be a Markdown cell labeled **Discussion**. In these cells, you will report your findings for the completed section, as well as document the decisions that you made in your approach to each subtask. **Your project will be evaluated not just on the code used to complete the tasks outlined, but also your communication about your observations and conclusions at each stage.**"
   ]
  },
  {
   "cell_type": "code",
   "execution_count": 1,
   "metadata": {},
   "outputs": [],
   "source": [
    "# import libraries here; add more as necessary\n",
    "import numpy as np\n",
    "import pandas as pd\n",
    "import matplotlib.pyplot as plt\n",
    "import seaborn as sns\n",
    "from sklearn import preprocessing \n",
    "from sklearn.preprocessing import StandardScaler\n",
    "from sklearn.preprocessing import Imputer\n",
    "from sklearn.decomposition import PCA\n",
    "from sklearn.cluster import KMeans\n",
    "\n",
    "# magic word for producing visualizations in notebook\n",
    "%matplotlib inline\n"
   ]
  },
  {
   "cell_type": "markdown",
   "metadata": {},
   "source": [
    "### Step 0: Load the Data\n",
    "\n",
    "There are four files associated with this project (not including this one):\n",
    "\n",
    "- `Udacity_AZDIAS_Subset.csv`: Demographics data for the general population of Germany; 891211 persons (rows) x 85 features (columns).\n",
    "- `Udacity_CUSTOMERS_Subset.csv`: Demographics data for customers of a mail-order company; 191652 persons (rows) x 85 features (columns).\n",
    "- `Data_Dictionary.md`: Detailed information file about the features in the provided datasets.\n",
    "- `AZDIAS_Feature_Summary.csv`: Summary of feature attributes for demographics data; 85 features (rows) x 4 columns\n",
    "\n",
    "Each row of the demographics files represents a single person, but also includes information outside of individuals, including information about their household, building, and neighborhood. You will use this information to cluster the general population into groups with similar demographic properties. Then, you will see how the people in the customers dataset fit into those created clusters. The hope here is that certain clusters are over-represented in the customers data, as compared to the general population; those over-represented clusters will be assumed to be part of the core userbase. This information can then be used for further applications, such as targeting for a marketing campaign.\n",
    "\n",
    "To start off with, load in the demographics data for the general population into a pandas DataFrame, and do the same for the feature attributes summary. Note for all of the `.csv` data files in this project: they're semicolon (`;`) delimited, so you'll need an additional argument in your [`read_csv()`](https://pandas.pydata.org/pandas-docs/stable/generated/pandas.read_csv.html) call to read in the data properly. Also, considering the size of the main dataset, it may take some time for it to load completely.\n",
    "\n",
    "Once the dataset is loaded, it's recommended that you take a little bit of time just browsing the general structure of the dataset and feature summary file. You'll be getting deep into the innards of the cleaning in the first major step of the project, so gaining some general familiarity can help you get your bearings."
   ]
  },
  {
   "cell_type": "code",
   "execution_count": 2,
   "metadata": {},
   "outputs": [],
   "source": [
    "# Load in the general demographics data.\n",
    "azdias = pd.read_csv('Udacity_AZDIAS_Subset.csv', sep=\";\")\n",
    "\n",
    "# Load in the feature summary file.\n",
    "feat_info = pd.read_csv('AZDIAS_Feature_Summary.csv', sep=\";\")"
   ]
  },
  {
   "cell_type": "code",
   "execution_count": 3,
   "metadata": {},
   "outputs": [
    {
     "name": "stdout",
     "output_type": "stream",
     "text": [
      "(891221, 85)\n",
      "(85, 4)\n"
     ]
    }
   ],
   "source": [
    "# Check the structure of the data after it's loaded (e.g. print the number of\n",
    "# rows and columns, print the first few rows).\n",
    "# data set dimensions\n",
    "print(azdias.shape)\n",
    "print(feat_info.shape)"
   ]
  },
  {
   "cell_type": "code",
   "execution_count": 4,
   "metadata": {},
   "outputs": [
    {
     "data": {
      "text/html": [
       "<div>\n",
       "<style scoped>\n",
       "    .dataframe tbody tr th:only-of-type {\n",
       "        vertical-align: middle;\n",
       "    }\n",
       "\n",
       "    .dataframe tbody tr th {\n",
       "        vertical-align: top;\n",
       "    }\n",
       "\n",
       "    .dataframe thead th {\n",
       "        text-align: right;\n",
       "    }\n",
       "</style>\n",
       "<table border=\"1\" class=\"dataframe\">\n",
       "  <thead>\n",
       "    <tr style=\"text-align: right;\">\n",
       "      <th></th>\n",
       "      <th>AGER_TYP</th>\n",
       "      <th>ALTERSKATEGORIE_GROB</th>\n",
       "      <th>ANREDE_KZ</th>\n",
       "      <th>CJT_GESAMTTYP</th>\n",
       "      <th>FINANZ_MINIMALIST</th>\n",
       "      <th>FINANZ_SPARER</th>\n",
       "      <th>FINANZ_VORSORGER</th>\n",
       "      <th>FINANZ_ANLEGER</th>\n",
       "      <th>FINANZ_UNAUFFAELLIGER</th>\n",
       "      <th>FINANZ_HAUSBAUER</th>\n",
       "      <th>...</th>\n",
       "      <th>PLZ8_ANTG1</th>\n",
       "      <th>PLZ8_ANTG2</th>\n",
       "      <th>PLZ8_ANTG3</th>\n",
       "      <th>PLZ8_ANTG4</th>\n",
       "      <th>PLZ8_BAUMAX</th>\n",
       "      <th>PLZ8_HHZ</th>\n",
       "      <th>PLZ8_GBZ</th>\n",
       "      <th>ARBEIT</th>\n",
       "      <th>ORTSGR_KLS9</th>\n",
       "      <th>RELAT_AB</th>\n",
       "    </tr>\n",
       "  </thead>\n",
       "  <tbody>\n",
       "    <tr>\n",
       "      <th>0</th>\n",
       "      <td>-1</td>\n",
       "      <td>2</td>\n",
       "      <td>1</td>\n",
       "      <td>2.0</td>\n",
       "      <td>3</td>\n",
       "      <td>4</td>\n",
       "      <td>3</td>\n",
       "      <td>5</td>\n",
       "      <td>5</td>\n",
       "      <td>3</td>\n",
       "      <td>...</td>\n",
       "      <td>NaN</td>\n",
       "      <td>NaN</td>\n",
       "      <td>NaN</td>\n",
       "      <td>NaN</td>\n",
       "      <td>NaN</td>\n",
       "      <td>NaN</td>\n",
       "      <td>NaN</td>\n",
       "      <td>NaN</td>\n",
       "      <td>NaN</td>\n",
       "      <td>NaN</td>\n",
       "    </tr>\n",
       "    <tr>\n",
       "      <th>1</th>\n",
       "      <td>-1</td>\n",
       "      <td>1</td>\n",
       "      <td>2</td>\n",
       "      <td>5.0</td>\n",
       "      <td>1</td>\n",
       "      <td>5</td>\n",
       "      <td>2</td>\n",
       "      <td>5</td>\n",
       "      <td>4</td>\n",
       "      <td>5</td>\n",
       "      <td>...</td>\n",
       "      <td>2.0</td>\n",
       "      <td>3.0</td>\n",
       "      <td>2.0</td>\n",
       "      <td>1.0</td>\n",
       "      <td>1.0</td>\n",
       "      <td>5.0</td>\n",
       "      <td>4.0</td>\n",
       "      <td>3.0</td>\n",
       "      <td>5.0</td>\n",
       "      <td>4.0</td>\n",
       "    </tr>\n",
       "    <tr>\n",
       "      <th>2</th>\n",
       "      <td>-1</td>\n",
       "      <td>3</td>\n",
       "      <td>2</td>\n",
       "      <td>3.0</td>\n",
       "      <td>1</td>\n",
       "      <td>4</td>\n",
       "      <td>1</td>\n",
       "      <td>2</td>\n",
       "      <td>3</td>\n",
       "      <td>5</td>\n",
       "      <td>...</td>\n",
       "      <td>3.0</td>\n",
       "      <td>3.0</td>\n",
       "      <td>1.0</td>\n",
       "      <td>0.0</td>\n",
       "      <td>1.0</td>\n",
       "      <td>4.0</td>\n",
       "      <td>4.0</td>\n",
       "      <td>3.0</td>\n",
       "      <td>5.0</td>\n",
       "      <td>2.0</td>\n",
       "    </tr>\n",
       "    <tr>\n",
       "      <th>3</th>\n",
       "      <td>2</td>\n",
       "      <td>4</td>\n",
       "      <td>2</td>\n",
       "      <td>2.0</td>\n",
       "      <td>4</td>\n",
       "      <td>2</td>\n",
       "      <td>5</td>\n",
       "      <td>2</td>\n",
       "      <td>1</td>\n",
       "      <td>2</td>\n",
       "      <td>...</td>\n",
       "      <td>2.0</td>\n",
       "      <td>2.0</td>\n",
       "      <td>2.0</td>\n",
       "      <td>0.0</td>\n",
       "      <td>1.0</td>\n",
       "      <td>3.0</td>\n",
       "      <td>4.0</td>\n",
       "      <td>2.0</td>\n",
       "      <td>3.0</td>\n",
       "      <td>3.0</td>\n",
       "    </tr>\n",
       "    <tr>\n",
       "      <th>4</th>\n",
       "      <td>-1</td>\n",
       "      <td>3</td>\n",
       "      <td>1</td>\n",
       "      <td>5.0</td>\n",
       "      <td>4</td>\n",
       "      <td>3</td>\n",
       "      <td>4</td>\n",
       "      <td>1</td>\n",
       "      <td>3</td>\n",
       "      <td>2</td>\n",
       "      <td>...</td>\n",
       "      <td>2.0</td>\n",
       "      <td>4.0</td>\n",
       "      <td>2.0</td>\n",
       "      <td>1.0</td>\n",
       "      <td>2.0</td>\n",
       "      <td>3.0</td>\n",
       "      <td>3.0</td>\n",
       "      <td>4.0</td>\n",
       "      <td>6.0</td>\n",
       "      <td>5.0</td>\n",
       "    </tr>\n",
       "    <tr>\n",
       "      <th>5</th>\n",
       "      <td>3</td>\n",
       "      <td>1</td>\n",
       "      <td>2</td>\n",
       "      <td>2.0</td>\n",
       "      <td>3</td>\n",
       "      <td>1</td>\n",
       "      <td>5</td>\n",
       "      <td>2</td>\n",
       "      <td>2</td>\n",
       "      <td>5</td>\n",
       "      <td>...</td>\n",
       "      <td>2.0</td>\n",
       "      <td>3.0</td>\n",
       "      <td>1.0</td>\n",
       "      <td>1.0</td>\n",
       "      <td>1.0</td>\n",
       "      <td>5.0</td>\n",
       "      <td>5.0</td>\n",
       "      <td>2.0</td>\n",
       "      <td>3.0</td>\n",
       "      <td>3.0</td>\n",
       "    </tr>\n",
       "    <tr>\n",
       "      <th>6</th>\n",
       "      <td>-1</td>\n",
       "      <td>2</td>\n",
       "      <td>2</td>\n",
       "      <td>5.0</td>\n",
       "      <td>1</td>\n",
       "      <td>5</td>\n",
       "      <td>1</td>\n",
       "      <td>5</td>\n",
       "      <td>4</td>\n",
       "      <td>3</td>\n",
       "      <td>...</td>\n",
       "      <td>3.0</td>\n",
       "      <td>3.0</td>\n",
       "      <td>1.0</td>\n",
       "      <td>0.0</td>\n",
       "      <td>1.0</td>\n",
       "      <td>5.0</td>\n",
       "      <td>5.0</td>\n",
       "      <td>4.0</td>\n",
       "      <td>6.0</td>\n",
       "      <td>3.0</td>\n",
       "    </tr>\n",
       "    <tr>\n",
       "      <th>7</th>\n",
       "      <td>-1</td>\n",
       "      <td>1</td>\n",
       "      <td>1</td>\n",
       "      <td>3.0</td>\n",
       "      <td>3</td>\n",
       "      <td>3</td>\n",
       "      <td>4</td>\n",
       "      <td>1</td>\n",
       "      <td>3</td>\n",
       "      <td>2</td>\n",
       "      <td>...</td>\n",
       "      <td>3.0</td>\n",
       "      <td>3.0</td>\n",
       "      <td>1.0</td>\n",
       "      <td>0.0</td>\n",
       "      <td>1.0</td>\n",
       "      <td>4.0</td>\n",
       "      <td>4.0</td>\n",
       "      <td>2.0</td>\n",
       "      <td>5.0</td>\n",
       "      <td>2.0</td>\n",
       "    </tr>\n",
       "    <tr>\n",
       "      <th>8</th>\n",
       "      <td>-1</td>\n",
       "      <td>3</td>\n",
       "      <td>1</td>\n",
       "      <td>3.0</td>\n",
       "      <td>4</td>\n",
       "      <td>4</td>\n",
       "      <td>2</td>\n",
       "      <td>4</td>\n",
       "      <td>2</td>\n",
       "      <td>2</td>\n",
       "      <td>...</td>\n",
       "      <td>2.0</td>\n",
       "      <td>3.0</td>\n",
       "      <td>2.0</td>\n",
       "      <td>1.0</td>\n",
       "      <td>1.0</td>\n",
       "      <td>3.0</td>\n",
       "      <td>3.0</td>\n",
       "      <td>2.0</td>\n",
       "      <td>4.0</td>\n",
       "      <td>3.0</td>\n",
       "    </tr>\n",
       "    <tr>\n",
       "      <th>9</th>\n",
       "      <td>-1</td>\n",
       "      <td>3</td>\n",
       "      <td>2</td>\n",
       "      <td>4.0</td>\n",
       "      <td>2</td>\n",
       "      <td>4</td>\n",
       "      <td>2</td>\n",
       "      <td>3</td>\n",
       "      <td>5</td>\n",
       "      <td>4</td>\n",
       "      <td>...</td>\n",
       "      <td>2.0</td>\n",
       "      <td>3.0</td>\n",
       "      <td>2.0</td>\n",
       "      <td>1.0</td>\n",
       "      <td>1.0</td>\n",
       "      <td>3.0</td>\n",
       "      <td>3.0</td>\n",
       "      <td>2.0</td>\n",
       "      <td>3.0</td>\n",
       "      <td>1.0</td>\n",
       "    </tr>\n",
       "  </tbody>\n",
       "</table>\n",
       "<p>10 rows × 85 columns</p>\n",
       "</div>"
      ],
      "text/plain": [
       "   AGER_TYP  ALTERSKATEGORIE_GROB  ANREDE_KZ  CJT_GESAMTTYP  \\\n",
       "0        -1                     2          1            2.0   \n",
       "1        -1                     1          2            5.0   \n",
       "2        -1                     3          2            3.0   \n",
       "3         2                     4          2            2.0   \n",
       "4        -1                     3          1            5.0   \n",
       "5         3                     1          2            2.0   \n",
       "6        -1                     2          2            5.0   \n",
       "7        -1                     1          1            3.0   \n",
       "8        -1                     3          1            3.0   \n",
       "9        -1                     3          2            4.0   \n",
       "\n",
       "   FINANZ_MINIMALIST  FINANZ_SPARER  FINANZ_VORSORGER  FINANZ_ANLEGER  \\\n",
       "0                  3              4                 3               5   \n",
       "1                  1              5                 2               5   \n",
       "2                  1              4                 1               2   \n",
       "3                  4              2                 5               2   \n",
       "4                  4              3                 4               1   \n",
       "5                  3              1                 5               2   \n",
       "6                  1              5                 1               5   \n",
       "7                  3              3                 4               1   \n",
       "8                  4              4                 2               4   \n",
       "9                  2              4                 2               3   \n",
       "\n",
       "   FINANZ_UNAUFFAELLIGER  FINANZ_HAUSBAUER    ...     PLZ8_ANTG1  PLZ8_ANTG2  \\\n",
       "0                      5                 3    ...            NaN         NaN   \n",
       "1                      4                 5    ...            2.0         3.0   \n",
       "2                      3                 5    ...            3.0         3.0   \n",
       "3                      1                 2    ...            2.0         2.0   \n",
       "4                      3                 2    ...            2.0         4.0   \n",
       "5                      2                 5    ...            2.0         3.0   \n",
       "6                      4                 3    ...            3.0         3.0   \n",
       "7                      3                 2    ...            3.0         3.0   \n",
       "8                      2                 2    ...            2.0         3.0   \n",
       "9                      5                 4    ...            2.0         3.0   \n",
       "\n",
       "   PLZ8_ANTG3  PLZ8_ANTG4  PLZ8_BAUMAX  PLZ8_HHZ  PLZ8_GBZ  ARBEIT  \\\n",
       "0         NaN         NaN          NaN       NaN       NaN     NaN   \n",
       "1         2.0         1.0          1.0       5.0       4.0     3.0   \n",
       "2         1.0         0.0          1.0       4.0       4.0     3.0   \n",
       "3         2.0         0.0          1.0       3.0       4.0     2.0   \n",
       "4         2.0         1.0          2.0       3.0       3.0     4.0   \n",
       "5         1.0         1.0          1.0       5.0       5.0     2.0   \n",
       "6         1.0         0.0          1.0       5.0       5.0     4.0   \n",
       "7         1.0         0.0          1.0       4.0       4.0     2.0   \n",
       "8         2.0         1.0          1.0       3.0       3.0     2.0   \n",
       "9         2.0         1.0          1.0       3.0       3.0     2.0   \n",
       "\n",
       "   ORTSGR_KLS9  RELAT_AB  \n",
       "0          NaN       NaN  \n",
       "1          5.0       4.0  \n",
       "2          5.0       2.0  \n",
       "3          3.0       3.0  \n",
       "4          6.0       5.0  \n",
       "5          3.0       3.0  \n",
       "6          6.0       3.0  \n",
       "7          5.0       2.0  \n",
       "8          4.0       3.0  \n",
       "9          3.0       1.0  \n",
       "\n",
       "[10 rows x 85 columns]"
      ]
     },
     "metadata": {},
     "output_type": "display_data"
    },
    {
     "data": {
      "text/html": [
       "<div>\n",
       "<style scoped>\n",
       "    .dataframe tbody tr th:only-of-type {\n",
       "        vertical-align: middle;\n",
       "    }\n",
       "\n",
       "    .dataframe tbody tr th {\n",
       "        vertical-align: top;\n",
       "    }\n",
       "\n",
       "    .dataframe thead th {\n",
       "        text-align: right;\n",
       "    }\n",
       "</style>\n",
       "<table border=\"1\" class=\"dataframe\">\n",
       "  <thead>\n",
       "    <tr style=\"text-align: right;\">\n",
       "      <th></th>\n",
       "      <th>attribute</th>\n",
       "      <th>information_level</th>\n",
       "      <th>type</th>\n",
       "      <th>missing_or_unknown</th>\n",
       "    </tr>\n",
       "  </thead>\n",
       "  <tbody>\n",
       "    <tr>\n",
       "      <th>0</th>\n",
       "      <td>AGER_TYP</td>\n",
       "      <td>person</td>\n",
       "      <td>categorical</td>\n",
       "      <td>[-1,0]</td>\n",
       "    </tr>\n",
       "    <tr>\n",
       "      <th>1</th>\n",
       "      <td>ALTERSKATEGORIE_GROB</td>\n",
       "      <td>person</td>\n",
       "      <td>ordinal</td>\n",
       "      <td>[-1,0,9]</td>\n",
       "    </tr>\n",
       "    <tr>\n",
       "      <th>2</th>\n",
       "      <td>ANREDE_KZ</td>\n",
       "      <td>person</td>\n",
       "      <td>categorical</td>\n",
       "      <td>[-1,0]</td>\n",
       "    </tr>\n",
       "    <tr>\n",
       "      <th>3</th>\n",
       "      <td>CJT_GESAMTTYP</td>\n",
       "      <td>person</td>\n",
       "      <td>categorical</td>\n",
       "      <td>[0]</td>\n",
       "    </tr>\n",
       "    <tr>\n",
       "      <th>4</th>\n",
       "      <td>FINANZ_MINIMALIST</td>\n",
       "      <td>person</td>\n",
       "      <td>ordinal</td>\n",
       "      <td>[-1]</td>\n",
       "    </tr>\n",
       "    <tr>\n",
       "      <th>5</th>\n",
       "      <td>FINANZ_SPARER</td>\n",
       "      <td>person</td>\n",
       "      <td>ordinal</td>\n",
       "      <td>[-1]</td>\n",
       "    </tr>\n",
       "    <tr>\n",
       "      <th>6</th>\n",
       "      <td>FINANZ_VORSORGER</td>\n",
       "      <td>person</td>\n",
       "      <td>ordinal</td>\n",
       "      <td>[-1]</td>\n",
       "    </tr>\n",
       "    <tr>\n",
       "      <th>7</th>\n",
       "      <td>FINANZ_ANLEGER</td>\n",
       "      <td>person</td>\n",
       "      <td>ordinal</td>\n",
       "      <td>[-1]</td>\n",
       "    </tr>\n",
       "    <tr>\n",
       "      <th>8</th>\n",
       "      <td>FINANZ_UNAUFFAELLIGER</td>\n",
       "      <td>person</td>\n",
       "      <td>ordinal</td>\n",
       "      <td>[-1]</td>\n",
       "    </tr>\n",
       "    <tr>\n",
       "      <th>9</th>\n",
       "      <td>FINANZ_HAUSBAUER</td>\n",
       "      <td>person</td>\n",
       "      <td>ordinal</td>\n",
       "      <td>[-1]</td>\n",
       "    </tr>\n",
       "  </tbody>\n",
       "</table>\n",
       "</div>"
      ],
      "text/plain": [
       "               attribute information_level         type missing_or_unknown\n",
       "0               AGER_TYP            person  categorical             [-1,0]\n",
       "1   ALTERSKATEGORIE_GROB            person      ordinal           [-1,0,9]\n",
       "2              ANREDE_KZ            person  categorical             [-1,0]\n",
       "3          CJT_GESAMTTYP            person  categorical                [0]\n",
       "4      FINANZ_MINIMALIST            person      ordinal               [-1]\n",
       "5          FINANZ_SPARER            person      ordinal               [-1]\n",
       "6       FINANZ_VORSORGER            person      ordinal               [-1]\n",
       "7         FINANZ_ANLEGER            person      ordinal               [-1]\n",
       "8  FINANZ_UNAUFFAELLIGER            person      ordinal               [-1]\n",
       "9       FINANZ_HAUSBAUER            person      ordinal               [-1]"
      ]
     },
     "metadata": {},
     "output_type": "display_data"
    }
   ],
   "source": [
    "## show the first rows \n",
    "display(azdias.head(n=10))\n",
    "display(feat_info.head(n=10))"
   ]
  },
  {
   "cell_type": "code",
   "execution_count": 5,
   "metadata": {},
   "outputs": [
    {
     "data": {
      "text/html": [
       "<div>\n",
       "<style scoped>\n",
       "    .dataframe tbody tr th:only-of-type {\n",
       "        vertical-align: middle;\n",
       "    }\n",
       "\n",
       "    .dataframe tbody tr th {\n",
       "        vertical-align: top;\n",
       "    }\n",
       "\n",
       "    .dataframe thead th {\n",
       "        text-align: right;\n",
       "    }\n",
       "</style>\n",
       "<table border=\"1\" class=\"dataframe\">\n",
       "  <thead>\n",
       "    <tr style=\"text-align: right;\">\n",
       "      <th></th>\n",
       "      <th>AGER_TYP</th>\n",
       "      <th>ALTERSKATEGORIE_GROB</th>\n",
       "      <th>ANREDE_KZ</th>\n",
       "      <th>CJT_GESAMTTYP</th>\n",
       "      <th>FINANZ_MINIMALIST</th>\n",
       "      <th>FINANZ_SPARER</th>\n",
       "      <th>FINANZ_VORSORGER</th>\n",
       "      <th>FINANZ_ANLEGER</th>\n",
       "      <th>FINANZ_UNAUFFAELLIGER</th>\n",
       "      <th>FINANZ_HAUSBAUER</th>\n",
       "      <th>...</th>\n",
       "      <th>PLZ8_ANTG1</th>\n",
       "      <th>PLZ8_ANTG2</th>\n",
       "      <th>PLZ8_ANTG3</th>\n",
       "      <th>PLZ8_ANTG4</th>\n",
       "      <th>PLZ8_BAUMAX</th>\n",
       "      <th>PLZ8_HHZ</th>\n",
       "      <th>PLZ8_GBZ</th>\n",
       "      <th>ARBEIT</th>\n",
       "      <th>ORTSGR_KLS9</th>\n",
       "      <th>RELAT_AB</th>\n",
       "    </tr>\n",
       "  </thead>\n",
       "  <tbody>\n",
       "    <tr>\n",
       "      <th>count</th>\n",
       "      <td>891221.000000</td>\n",
       "      <td>891221.000000</td>\n",
       "      <td>891221.000000</td>\n",
       "      <td>886367.000000</td>\n",
       "      <td>891221.000000</td>\n",
       "      <td>891221.000000</td>\n",
       "      <td>891221.000000</td>\n",
       "      <td>891221.000000</td>\n",
       "      <td>891221.000000</td>\n",
       "      <td>891221.000000</td>\n",
       "      <td>...</td>\n",
       "      <td>774706.000000</td>\n",
       "      <td>774706.000000</td>\n",
       "      <td>774706.000000</td>\n",
       "      <td>774706.000000</td>\n",
       "      <td>774706.000000</td>\n",
       "      <td>774706.000000</td>\n",
       "      <td>774706.000000</td>\n",
       "      <td>794005.000000</td>\n",
       "      <td>794005.000000</td>\n",
       "      <td>794005.00000</td>\n",
       "    </tr>\n",
       "    <tr>\n",
       "      <th>mean</th>\n",
       "      <td>-0.358435</td>\n",
       "      <td>2.777398</td>\n",
       "      <td>1.522098</td>\n",
       "      <td>3.632838</td>\n",
       "      <td>3.074528</td>\n",
       "      <td>2.821039</td>\n",
       "      <td>3.401106</td>\n",
       "      <td>3.033328</td>\n",
       "      <td>2.874167</td>\n",
       "      <td>3.075121</td>\n",
       "      <td>...</td>\n",
       "      <td>2.253330</td>\n",
       "      <td>2.801858</td>\n",
       "      <td>1.595426</td>\n",
       "      <td>0.699166</td>\n",
       "      <td>1.943913</td>\n",
       "      <td>3.612821</td>\n",
       "      <td>3.381087</td>\n",
       "      <td>3.167854</td>\n",
       "      <td>5.293002</td>\n",
       "      <td>3.07222</td>\n",
       "    </tr>\n",
       "    <tr>\n",
       "      <th>std</th>\n",
       "      <td>1.198724</td>\n",
       "      <td>1.068775</td>\n",
       "      <td>0.499512</td>\n",
       "      <td>1.595021</td>\n",
       "      <td>1.321055</td>\n",
       "      <td>1.464749</td>\n",
       "      <td>1.322134</td>\n",
       "      <td>1.529603</td>\n",
       "      <td>1.486731</td>\n",
       "      <td>1.353248</td>\n",
       "      <td>...</td>\n",
       "      <td>0.972008</td>\n",
       "      <td>0.920309</td>\n",
       "      <td>0.986736</td>\n",
       "      <td>0.727137</td>\n",
       "      <td>1.459654</td>\n",
       "      <td>0.973967</td>\n",
       "      <td>1.111598</td>\n",
       "      <td>1.002376</td>\n",
       "      <td>2.303739</td>\n",
       "      <td>1.36298</td>\n",
       "    </tr>\n",
       "    <tr>\n",
       "      <th>min</th>\n",
       "      <td>-1.000000</td>\n",
       "      <td>1.000000</td>\n",
       "      <td>1.000000</td>\n",
       "      <td>1.000000</td>\n",
       "      <td>1.000000</td>\n",
       "      <td>1.000000</td>\n",
       "      <td>1.000000</td>\n",
       "      <td>1.000000</td>\n",
       "      <td>1.000000</td>\n",
       "      <td>1.000000</td>\n",
       "      <td>...</td>\n",
       "      <td>0.000000</td>\n",
       "      <td>0.000000</td>\n",
       "      <td>0.000000</td>\n",
       "      <td>0.000000</td>\n",
       "      <td>1.000000</td>\n",
       "      <td>1.000000</td>\n",
       "      <td>1.000000</td>\n",
       "      <td>1.000000</td>\n",
       "      <td>0.000000</td>\n",
       "      <td>1.00000</td>\n",
       "    </tr>\n",
       "    <tr>\n",
       "      <th>25%</th>\n",
       "      <td>-1.000000</td>\n",
       "      <td>2.000000</td>\n",
       "      <td>1.000000</td>\n",
       "      <td>2.000000</td>\n",
       "      <td>2.000000</td>\n",
       "      <td>1.000000</td>\n",
       "      <td>3.000000</td>\n",
       "      <td>2.000000</td>\n",
       "      <td>2.000000</td>\n",
       "      <td>2.000000</td>\n",
       "      <td>...</td>\n",
       "      <td>1.000000</td>\n",
       "      <td>2.000000</td>\n",
       "      <td>1.000000</td>\n",
       "      <td>0.000000</td>\n",
       "      <td>1.000000</td>\n",
       "      <td>3.000000</td>\n",
       "      <td>3.000000</td>\n",
       "      <td>3.000000</td>\n",
       "      <td>4.000000</td>\n",
       "      <td>2.00000</td>\n",
       "    </tr>\n",
       "    <tr>\n",
       "      <th>50%</th>\n",
       "      <td>-1.000000</td>\n",
       "      <td>3.000000</td>\n",
       "      <td>2.000000</td>\n",
       "      <td>4.000000</td>\n",
       "      <td>3.000000</td>\n",
       "      <td>3.000000</td>\n",
       "      <td>3.000000</td>\n",
       "      <td>3.000000</td>\n",
       "      <td>3.000000</td>\n",
       "      <td>3.000000</td>\n",
       "      <td>...</td>\n",
       "      <td>2.000000</td>\n",
       "      <td>3.000000</td>\n",
       "      <td>2.000000</td>\n",
       "      <td>1.000000</td>\n",
       "      <td>1.000000</td>\n",
       "      <td>4.000000</td>\n",
       "      <td>3.000000</td>\n",
       "      <td>3.000000</td>\n",
       "      <td>5.000000</td>\n",
       "      <td>3.00000</td>\n",
       "    </tr>\n",
       "    <tr>\n",
       "      <th>75%</th>\n",
       "      <td>-1.000000</td>\n",
       "      <td>4.000000</td>\n",
       "      <td>2.000000</td>\n",
       "      <td>5.000000</td>\n",
       "      <td>4.000000</td>\n",
       "      <td>4.000000</td>\n",
       "      <td>5.000000</td>\n",
       "      <td>5.000000</td>\n",
       "      <td>4.000000</td>\n",
       "      <td>4.000000</td>\n",
       "      <td>...</td>\n",
       "      <td>3.000000</td>\n",
       "      <td>3.000000</td>\n",
       "      <td>2.000000</td>\n",
       "      <td>1.000000</td>\n",
       "      <td>3.000000</td>\n",
       "      <td>4.000000</td>\n",
       "      <td>4.000000</td>\n",
       "      <td>4.000000</td>\n",
       "      <td>7.000000</td>\n",
       "      <td>4.00000</td>\n",
       "    </tr>\n",
       "    <tr>\n",
       "      <th>max</th>\n",
       "      <td>3.000000</td>\n",
       "      <td>9.000000</td>\n",
       "      <td>2.000000</td>\n",
       "      <td>6.000000</td>\n",
       "      <td>5.000000</td>\n",
       "      <td>5.000000</td>\n",
       "      <td>5.000000</td>\n",
       "      <td>5.000000</td>\n",
       "      <td>5.000000</td>\n",
       "      <td>5.000000</td>\n",
       "      <td>...</td>\n",
       "      <td>4.000000</td>\n",
       "      <td>4.000000</td>\n",
       "      <td>3.000000</td>\n",
       "      <td>2.000000</td>\n",
       "      <td>5.000000</td>\n",
       "      <td>5.000000</td>\n",
       "      <td>5.000000</td>\n",
       "      <td>9.000000</td>\n",
       "      <td>9.000000</td>\n",
       "      <td>9.00000</td>\n",
       "    </tr>\n",
       "  </tbody>\n",
       "</table>\n",
       "<p>8 rows × 81 columns</p>\n",
       "</div>"
      ],
      "text/plain": [
       "            AGER_TYP  ALTERSKATEGORIE_GROB      ANREDE_KZ  CJT_GESAMTTYP  \\\n",
       "count  891221.000000         891221.000000  891221.000000  886367.000000   \n",
       "mean       -0.358435              2.777398       1.522098       3.632838   \n",
       "std         1.198724              1.068775       0.499512       1.595021   \n",
       "min        -1.000000              1.000000       1.000000       1.000000   \n",
       "25%        -1.000000              2.000000       1.000000       2.000000   \n",
       "50%        -1.000000              3.000000       2.000000       4.000000   \n",
       "75%        -1.000000              4.000000       2.000000       5.000000   \n",
       "max         3.000000              9.000000       2.000000       6.000000   \n",
       "\n",
       "       FINANZ_MINIMALIST  FINANZ_SPARER  FINANZ_VORSORGER  FINANZ_ANLEGER  \\\n",
       "count      891221.000000  891221.000000     891221.000000   891221.000000   \n",
       "mean            3.074528       2.821039          3.401106        3.033328   \n",
       "std             1.321055       1.464749          1.322134        1.529603   \n",
       "min             1.000000       1.000000          1.000000        1.000000   \n",
       "25%             2.000000       1.000000          3.000000        2.000000   \n",
       "50%             3.000000       3.000000          3.000000        3.000000   \n",
       "75%             4.000000       4.000000          5.000000        5.000000   \n",
       "max             5.000000       5.000000          5.000000        5.000000   \n",
       "\n",
       "       FINANZ_UNAUFFAELLIGER  FINANZ_HAUSBAUER      ...          PLZ8_ANTG1  \\\n",
       "count          891221.000000     891221.000000      ...       774706.000000   \n",
       "mean                2.874167          3.075121      ...            2.253330   \n",
       "std                 1.486731          1.353248      ...            0.972008   \n",
       "min                 1.000000          1.000000      ...            0.000000   \n",
       "25%                 2.000000          2.000000      ...            1.000000   \n",
       "50%                 3.000000          3.000000      ...            2.000000   \n",
       "75%                 4.000000          4.000000      ...            3.000000   \n",
       "max                 5.000000          5.000000      ...            4.000000   \n",
       "\n",
       "          PLZ8_ANTG2     PLZ8_ANTG3     PLZ8_ANTG4    PLZ8_BAUMAX  \\\n",
       "count  774706.000000  774706.000000  774706.000000  774706.000000   \n",
       "mean        2.801858       1.595426       0.699166       1.943913   \n",
       "std         0.920309       0.986736       0.727137       1.459654   \n",
       "min         0.000000       0.000000       0.000000       1.000000   \n",
       "25%         2.000000       1.000000       0.000000       1.000000   \n",
       "50%         3.000000       2.000000       1.000000       1.000000   \n",
       "75%         3.000000       2.000000       1.000000       3.000000   \n",
       "max         4.000000       3.000000       2.000000       5.000000   \n",
       "\n",
       "            PLZ8_HHZ       PLZ8_GBZ         ARBEIT    ORTSGR_KLS9  \\\n",
       "count  774706.000000  774706.000000  794005.000000  794005.000000   \n",
       "mean        3.612821       3.381087       3.167854       5.293002   \n",
       "std         0.973967       1.111598       1.002376       2.303739   \n",
       "min         1.000000       1.000000       1.000000       0.000000   \n",
       "25%         3.000000       3.000000       3.000000       4.000000   \n",
       "50%         4.000000       3.000000       3.000000       5.000000   \n",
       "75%         4.000000       4.000000       4.000000       7.000000   \n",
       "max         5.000000       5.000000       9.000000       9.000000   \n",
       "\n",
       "           RELAT_AB  \n",
       "count  794005.00000  \n",
       "mean        3.07222  \n",
       "std         1.36298  \n",
       "min         1.00000  \n",
       "25%         2.00000  \n",
       "50%         3.00000  \n",
       "75%         4.00000  \n",
       "max         9.00000  \n",
       "\n",
       "[8 rows x 81 columns]"
      ]
     },
     "metadata": {},
     "output_type": "display_data"
    },
    {
     "data": {
      "text/html": [
       "<div>\n",
       "<style scoped>\n",
       "    .dataframe tbody tr th:only-of-type {\n",
       "        vertical-align: middle;\n",
       "    }\n",
       "\n",
       "    .dataframe tbody tr th {\n",
       "        vertical-align: top;\n",
       "    }\n",
       "\n",
       "    .dataframe thead th {\n",
       "        text-align: right;\n",
       "    }\n",
       "</style>\n",
       "<table border=\"1\" class=\"dataframe\">\n",
       "  <thead>\n",
       "    <tr style=\"text-align: right;\">\n",
       "      <th></th>\n",
       "      <th>attribute</th>\n",
       "      <th>information_level</th>\n",
       "      <th>type</th>\n",
       "      <th>missing_or_unknown</th>\n",
       "    </tr>\n",
       "  </thead>\n",
       "  <tbody>\n",
       "    <tr>\n",
       "      <th>count</th>\n",
       "      <td>85</td>\n",
       "      <td>85</td>\n",
       "      <td>85</td>\n",
       "      <td>85</td>\n",
       "    </tr>\n",
       "    <tr>\n",
       "      <th>unique</th>\n",
       "      <td>85</td>\n",
       "      <td>9</td>\n",
       "      <td>5</td>\n",
       "      <td>9</td>\n",
       "    </tr>\n",
       "    <tr>\n",
       "      <th>top</th>\n",
       "      <td>KBA05_ANTG1</td>\n",
       "      <td>person</td>\n",
       "      <td>ordinal</td>\n",
       "      <td>[-1]</td>\n",
       "    </tr>\n",
       "    <tr>\n",
       "      <th>freq</th>\n",
       "      <td>1</td>\n",
       "      <td>43</td>\n",
       "      <td>49</td>\n",
       "      <td>26</td>\n",
       "    </tr>\n",
       "  </tbody>\n",
       "</table>\n",
       "</div>"
      ],
      "text/plain": [
       "          attribute information_level     type missing_or_unknown\n",
       "count            85                85       85                 85\n",
       "unique           85                 9        5                  9\n",
       "top     KBA05_ANTG1            person  ordinal               [-1]\n",
       "freq              1                43       49                 26"
      ]
     },
     "metadata": {},
     "output_type": "display_data"
    }
   ],
   "source": [
    "## see the structure of features\n",
    "display(azdias.describe())\n",
    "display(feat_info.describe())"
   ]
  },
  {
   "cell_type": "code",
   "execution_count": 6,
   "metadata": {},
   "outputs": [
    {
     "data": {
      "text/plain": [
       "type\n",
       "categorical    21\n",
       "interval        1\n",
       "mixed           7\n",
       "numeric         7\n",
       "ordinal        49\n",
       "dtype: int64"
      ]
     },
     "execution_count": 6,
     "metadata": {},
     "output_type": "execute_result"
    }
   ],
   "source": [
    "# checking what type of variables we have \n",
    "feat_info.groupby(by=\"type\").size()"
   ]
  },
  {
   "cell_type": "code",
   "execution_count": 7,
   "metadata": {},
   "outputs": [
    {
     "data": {
      "text/plain": [
       "4896838"
      ]
     },
     "execution_count": 7,
     "metadata": {},
     "output_type": "execute_result"
    }
   ],
   "source": [
    "# find the number of total missing values \n",
    "azdias.isnull().sum().sum()\n"
   ]
  },
  {
   "cell_type": "code",
   "execution_count": 8,
   "metadata": {},
   "outputs": [
    {
     "data": {
      "text/plain": [
       "AGER_TYP                      0\n",
       "ALTERSKATEGORIE_GROB          0\n",
       "ANREDE_KZ                     0\n",
       "CJT_GESAMTTYP              4854\n",
       "FINANZ_MINIMALIST             0\n",
       "FINANZ_SPARER                 0\n",
       "FINANZ_VORSORGER              0\n",
       "FINANZ_ANLEGER                0\n",
       "FINANZ_UNAUFFAELLIGER         0\n",
       "FINANZ_HAUSBAUER              0\n",
       "FINANZTYP                     0\n",
       "GEBURTSJAHR                   0\n",
       "GFK_URLAUBERTYP            4854\n",
       "GREEN_AVANTGARDE              0\n",
       "HEALTH_TYP                    0\n",
       "LP_LEBENSPHASE_FEIN        4854\n",
       "LP_LEBENSPHASE_GROB        4854\n",
       "LP_FAMILIE_FEIN            4854\n",
       "LP_FAMILIE_GROB            4854\n",
       "LP_STATUS_FEIN             4854\n",
       "LP_STATUS_GROB             4854\n",
       "NATIONALITAET_KZ              0\n",
       "PRAEGENDE_JUGENDJAHRE         0\n",
       "RETOURTYP_BK_S             4854\n",
       "SEMIO_SOZ                     0\n",
       "SEMIO_FAM                     0\n",
       "SEMIO_REL                     0\n",
       "SEMIO_MAT                     0\n",
       "SEMIO_VERT                    0\n",
       "SEMIO_LUST                    0\n",
       "                          ...  \n",
       "OST_WEST_KZ               93148\n",
       "WOHNLAGE                  93148\n",
       "CAMEO_DEUG_2015           98979\n",
       "CAMEO_DEU_2015            98979\n",
       "CAMEO_INTL_2015           98979\n",
       "KBA05_ANTG1              133324\n",
       "KBA05_ANTG2              133324\n",
       "KBA05_ANTG3              133324\n",
       "KBA05_ANTG4              133324\n",
       "KBA05_BAUMAX             133324\n",
       "KBA05_GBZ                133324\n",
       "BALLRAUM                  93740\n",
       "EWDICHTE                  93740\n",
       "INNENSTADT                93740\n",
       "GEBAEUDETYP_RASTER        93155\n",
       "KKK                      121196\n",
       "MOBI_REGIO               133324\n",
       "ONLINE_AFFINITAET          4854\n",
       "REGIOTYP                 121196\n",
       "KBA13_ANZAHL_PKW         105800\n",
       "PLZ8_ANTG1               116515\n",
       "PLZ8_ANTG2               116515\n",
       "PLZ8_ANTG3               116515\n",
       "PLZ8_ANTG4               116515\n",
       "PLZ8_BAUMAX              116515\n",
       "PLZ8_HHZ                 116515\n",
       "PLZ8_GBZ                 116515\n",
       "ARBEIT                    97216\n",
       "ORTSGR_KLS9               97216\n",
       "RELAT_AB                  97216\n",
       "Length: 85, dtype: int64"
      ]
     },
     "execution_count": 8,
     "metadata": {},
     "output_type": "execute_result"
    }
   ],
   "source": [
    "# check how many Nans are already in each column\n",
    "azdias.isnull().sum()"
   ]
  },
  {
   "cell_type": "markdown",
   "metadata": {},
   "source": [
    "f> **Tip**: Add additional cells to keep everything in reasonably-sized chunks! Keyboard shortcut `esc --> a` (press escape to enter command mode, then press the 'A' key) adds a new cell before the active cell, and `esc --> b` adds a new cell after the active cell. If you need to convert an active cell to a markdown cell, use `esc --> m` and to convert to a code cell, use `esc --> y`. \n",
    "\n",
    "## Step 1: Preprocessing\n",
    "\n",
    "### Step 1.1: Assess Missing Data\n",
    "\n",
    "The feature summary file contains a summary of properties for each demographics data column. You will use this file to help you make cleaning decisions during this stage of the project. First of all, you should assess the demographics data in terms of missing data. Pay attention to the following points as you perform your analysis, and take notes on what you observe. Make sure that you fill in the **Discussion** cell with your findings and decisions at the end of each step that has one!\n",
    "\n",
    "#### Step 1.1.1: Convert Missing Value Codes to NaNs\n",
    "The fourth column of the feature attributes summary (loaded in above as `feat_info`) documents the codes from the data dictionary that indicate missing or unknown data. While the file encodes this as a list (e.g. `[-1,0]`), this will get read in as a string object. You'll need to do a little bit of parsing to make use of it to identify and clean the data. Convert data that matches a 'missing' or 'unknown' value code into a numpy NaN value. You might want to see how much data takes on a 'missing' or 'unknown' code, and how much data is naturally missing, as a point of interest.\n",
    "\n",
    "**As one more reminder, you are encouraged to add additional cells to break up your analysis into manageable chunks.**"
   ]
  },
  {
   "cell_type": "code",
   "execution_count": 10,
   "metadata": {},
   "outputs": [],
   "source": [
    "##the missing_or_unknown variable in feature info dataset is a string \n",
    "# clean the missing_or_unknown from feat_info\n",
    "for idx in range(len(feat_info)):\n",
    "    missing_or_unknown = feat_info.iloc[idx]['missing_or_unknown'] \n",
    "    ## remove the [] and ,\n",
    "    missing_or_unknown = missing_or_unknown.strip('[') \n",
    "    missing_or_unknown = missing_or_unknown.strip(']')\n",
    "    missing_or_unknown = missing_or_unknown.split(sep = \",\")\n",
    "    missing_or_unknown = [int(value) if (value != 'X' and value != 'XX' and value != '') else value for value in missing_or_unknown]\n",
    "    \n",
    "    ### replace the values in azdias with numpy Nans\n",
    "    if missing_or_unknown != ['']:\n",
    "        azdias = azdias.replace({feat_info.iloc[idx]['attribute']: missing_or_unknown} , np.nan) \n",
    "        "
   ]
  },
  {
   "cell_type": "code",
   "execution_count": 11,
   "metadata": {},
   "outputs": [
    {
     "data": {
      "text/plain": [
       "8373929"
      ]
     },
     "execution_count": 11,
     "metadata": {},
     "output_type": "execute_result"
    }
   ],
   "source": [
    "### total number of missing values\n",
    "azdias.isnull().sum().sum()"
   ]
  },
  {
   "cell_type": "code",
   "execution_count": 10,
   "metadata": {},
   "outputs": [
    {
     "data": {
      "text/html": [
       "<div>\n",
       "<style scoped>\n",
       "    .dataframe tbody tr th:only-of-type {\n",
       "        vertical-align: middle;\n",
       "    }\n",
       "\n",
       "    .dataframe tbody tr th {\n",
       "        vertical-align: top;\n",
       "    }\n",
       "\n",
       "    .dataframe thead th {\n",
       "        text-align: right;\n",
       "    }\n",
       "</style>\n",
       "<table border=\"1\" class=\"dataframe\">\n",
       "  <thead>\n",
       "    <tr style=\"text-align: right;\">\n",
       "      <th></th>\n",
       "      <th>AGER_TYP</th>\n",
       "      <th>ALTERSKATEGORIE_GROB</th>\n",
       "      <th>ANREDE_KZ</th>\n",
       "      <th>CJT_GESAMTTYP</th>\n",
       "      <th>FINANZ_MINIMALIST</th>\n",
       "      <th>FINANZ_SPARER</th>\n",
       "      <th>FINANZ_VORSORGER</th>\n",
       "      <th>FINANZ_ANLEGER</th>\n",
       "      <th>FINANZ_UNAUFFAELLIGER</th>\n",
       "      <th>FINANZ_HAUSBAUER</th>\n",
       "      <th>...</th>\n",
       "      <th>PLZ8_ANTG1</th>\n",
       "      <th>PLZ8_ANTG2</th>\n",
       "      <th>PLZ8_ANTG3</th>\n",
       "      <th>PLZ8_ANTG4</th>\n",
       "      <th>PLZ8_BAUMAX</th>\n",
       "      <th>PLZ8_HHZ</th>\n",
       "      <th>PLZ8_GBZ</th>\n",
       "      <th>ARBEIT</th>\n",
       "      <th>ORTSGR_KLS9</th>\n",
       "      <th>RELAT_AB</th>\n",
       "    </tr>\n",
       "  </thead>\n",
       "  <tbody>\n",
       "    <tr>\n",
       "      <th>0</th>\n",
       "      <td>NaN</td>\n",
       "      <td>2.0</td>\n",
       "      <td>1</td>\n",
       "      <td>2.0</td>\n",
       "      <td>3</td>\n",
       "      <td>4</td>\n",
       "      <td>3</td>\n",
       "      <td>5</td>\n",
       "      <td>5</td>\n",
       "      <td>3</td>\n",
       "      <td>...</td>\n",
       "      <td>NaN</td>\n",
       "      <td>NaN</td>\n",
       "      <td>NaN</td>\n",
       "      <td>NaN</td>\n",
       "      <td>NaN</td>\n",
       "      <td>NaN</td>\n",
       "      <td>NaN</td>\n",
       "      <td>NaN</td>\n",
       "      <td>NaN</td>\n",
       "      <td>NaN</td>\n",
       "    </tr>\n",
       "    <tr>\n",
       "      <th>1</th>\n",
       "      <td>NaN</td>\n",
       "      <td>1.0</td>\n",
       "      <td>2</td>\n",
       "      <td>5.0</td>\n",
       "      <td>1</td>\n",
       "      <td>5</td>\n",
       "      <td>2</td>\n",
       "      <td>5</td>\n",
       "      <td>4</td>\n",
       "      <td>5</td>\n",
       "      <td>...</td>\n",
       "      <td>2.0</td>\n",
       "      <td>3.0</td>\n",
       "      <td>2.0</td>\n",
       "      <td>1.0</td>\n",
       "      <td>1.0</td>\n",
       "      <td>5.0</td>\n",
       "      <td>4.0</td>\n",
       "      <td>3.0</td>\n",
       "      <td>5.0</td>\n",
       "      <td>4.0</td>\n",
       "    </tr>\n",
       "    <tr>\n",
       "      <th>2</th>\n",
       "      <td>NaN</td>\n",
       "      <td>3.0</td>\n",
       "      <td>2</td>\n",
       "      <td>3.0</td>\n",
       "      <td>1</td>\n",
       "      <td>4</td>\n",
       "      <td>1</td>\n",
       "      <td>2</td>\n",
       "      <td>3</td>\n",
       "      <td>5</td>\n",
       "      <td>...</td>\n",
       "      <td>3.0</td>\n",
       "      <td>3.0</td>\n",
       "      <td>1.0</td>\n",
       "      <td>0.0</td>\n",
       "      <td>1.0</td>\n",
       "      <td>4.0</td>\n",
       "      <td>4.0</td>\n",
       "      <td>3.0</td>\n",
       "      <td>5.0</td>\n",
       "      <td>2.0</td>\n",
       "    </tr>\n",
       "    <tr>\n",
       "      <th>3</th>\n",
       "      <td>2.0</td>\n",
       "      <td>4.0</td>\n",
       "      <td>2</td>\n",
       "      <td>2.0</td>\n",
       "      <td>4</td>\n",
       "      <td>2</td>\n",
       "      <td>5</td>\n",
       "      <td>2</td>\n",
       "      <td>1</td>\n",
       "      <td>2</td>\n",
       "      <td>...</td>\n",
       "      <td>2.0</td>\n",
       "      <td>2.0</td>\n",
       "      <td>2.0</td>\n",
       "      <td>0.0</td>\n",
       "      <td>1.0</td>\n",
       "      <td>3.0</td>\n",
       "      <td>4.0</td>\n",
       "      <td>2.0</td>\n",
       "      <td>3.0</td>\n",
       "      <td>3.0</td>\n",
       "    </tr>\n",
       "    <tr>\n",
       "      <th>4</th>\n",
       "      <td>NaN</td>\n",
       "      <td>3.0</td>\n",
       "      <td>1</td>\n",
       "      <td>5.0</td>\n",
       "      <td>4</td>\n",
       "      <td>3</td>\n",
       "      <td>4</td>\n",
       "      <td>1</td>\n",
       "      <td>3</td>\n",
       "      <td>2</td>\n",
       "      <td>...</td>\n",
       "      <td>2.0</td>\n",
       "      <td>4.0</td>\n",
       "      <td>2.0</td>\n",
       "      <td>1.0</td>\n",
       "      <td>2.0</td>\n",
       "      <td>3.0</td>\n",
       "      <td>3.0</td>\n",
       "      <td>4.0</td>\n",
       "      <td>6.0</td>\n",
       "      <td>5.0</td>\n",
       "    </tr>\n",
       "  </tbody>\n",
       "</table>\n",
       "<p>5 rows × 85 columns</p>\n",
       "</div>"
      ],
      "text/plain": [
       "   AGER_TYP  ALTERSKATEGORIE_GROB  ANREDE_KZ  CJT_GESAMTTYP  \\\n",
       "0       NaN                   2.0          1            2.0   \n",
       "1       NaN                   1.0          2            5.0   \n",
       "2       NaN                   3.0          2            3.0   \n",
       "3       2.0                   4.0          2            2.0   \n",
       "4       NaN                   3.0          1            5.0   \n",
       "\n",
       "   FINANZ_MINIMALIST  FINANZ_SPARER  FINANZ_VORSORGER  FINANZ_ANLEGER  \\\n",
       "0                  3              4                 3               5   \n",
       "1                  1              5                 2               5   \n",
       "2                  1              4                 1               2   \n",
       "3                  4              2                 5               2   \n",
       "4                  4              3                 4               1   \n",
       "\n",
       "   FINANZ_UNAUFFAELLIGER  FINANZ_HAUSBAUER    ...     PLZ8_ANTG1  PLZ8_ANTG2  \\\n",
       "0                      5                 3    ...            NaN         NaN   \n",
       "1                      4                 5    ...            2.0         3.0   \n",
       "2                      3                 5    ...            3.0         3.0   \n",
       "3                      1                 2    ...            2.0         2.0   \n",
       "4                      3                 2    ...            2.0         4.0   \n",
       "\n",
       "   PLZ8_ANTG3  PLZ8_ANTG4  PLZ8_BAUMAX  PLZ8_HHZ  PLZ8_GBZ  ARBEIT  \\\n",
       "0         NaN         NaN          NaN       NaN       NaN     NaN   \n",
       "1         2.0         1.0          1.0       5.0       4.0     3.0   \n",
       "2         1.0         0.0          1.0       4.0       4.0     3.0   \n",
       "3         2.0         0.0          1.0       3.0       4.0     2.0   \n",
       "4         2.0         1.0          2.0       3.0       3.0     4.0   \n",
       "\n",
       "   ORTSGR_KLS9  RELAT_AB  \n",
       "0          NaN       NaN  \n",
       "1          5.0       4.0  \n",
       "2          5.0       2.0  \n",
       "3          3.0       3.0  \n",
       "4          6.0       5.0  \n",
       "\n",
       "[5 rows x 85 columns]"
      ]
     },
     "execution_count": 10,
     "metadata": {},
     "output_type": "execute_result"
    }
   ],
   "source": [
    "### being sure if the list of missing_or_unknown variable is replaced by numpy NaN in df\n",
    "azdias.head()"
   ]
  },
  {
   "cell_type": "code",
   "execution_count": 12,
   "metadata": {},
   "outputs": [
    {
     "data": {
      "text/plain": [
       "AGER_TYP                 685843\n",
       "ALTERSKATEGORIE_GROB       2881\n",
       "ANREDE_KZ                     0\n",
       "CJT_GESAMTTYP              4854\n",
       "FINANZ_MINIMALIST             0\n",
       "FINANZ_SPARER                 0\n",
       "FINANZ_VORSORGER              0\n",
       "FINANZ_ANLEGER                0\n",
       "FINANZ_UNAUFFAELLIGER         0\n",
       "FINANZ_HAUSBAUER              0\n",
       "FINANZTYP                     0\n",
       "GEBURTSJAHR              392318\n",
       "GFK_URLAUBERTYP            4854\n",
       "GREEN_AVANTGARDE              0\n",
       "HEALTH_TYP               111196\n",
       "LP_LEBENSPHASE_FEIN       97632\n",
       "LP_LEBENSPHASE_GROB       94572\n",
       "LP_FAMILIE_FEIN           77792\n",
       "LP_FAMILIE_GROB           77792\n",
       "LP_STATUS_FEIN             4854\n",
       "LP_STATUS_GROB             4854\n",
       "NATIONALITAET_KZ         108315\n",
       "PRAEGENDE_JUGENDJAHRE    108164\n",
       "RETOURTYP_BK_S             4854\n",
       "SEMIO_SOZ                     0\n",
       "SEMIO_FAM                     0\n",
       "SEMIO_REL                     0\n",
       "SEMIO_MAT                     0\n",
       "SEMIO_VERT                    0\n",
       "SEMIO_LUST                    0\n",
       "                          ...  \n",
       "OST_WEST_KZ               93148\n",
       "WOHNLAGE                  93148\n",
       "CAMEO_DEUG_2015           99352\n",
       "CAMEO_DEU_2015            99352\n",
       "CAMEO_INTL_2015           99352\n",
       "KBA05_ANTG1              133324\n",
       "KBA05_ANTG2              133324\n",
       "KBA05_ANTG3              133324\n",
       "KBA05_ANTG4              133324\n",
       "KBA05_BAUMAX             476524\n",
       "KBA05_GBZ                133324\n",
       "BALLRAUM                  93740\n",
       "EWDICHTE                  93740\n",
       "INNENSTADT                93740\n",
       "GEBAEUDETYP_RASTER        93155\n",
       "KKK                      158064\n",
       "MOBI_REGIO               133324\n",
       "ONLINE_AFFINITAET          4854\n",
       "REGIOTYP                 158064\n",
       "KBA13_ANZAHL_PKW         105800\n",
       "PLZ8_ANTG1               116515\n",
       "PLZ8_ANTG2               116515\n",
       "PLZ8_ANTG3               116515\n",
       "PLZ8_ANTG4               116515\n",
       "PLZ8_BAUMAX              116515\n",
       "PLZ8_HHZ                 116515\n",
       "PLZ8_GBZ                 116515\n",
       "ARBEIT                    97375\n",
       "ORTSGR_KLS9               97274\n",
       "RELAT_AB                  97375\n",
       "Length: 85, dtype: int64"
      ]
     },
     "execution_count": 12,
     "metadata": {},
     "output_type": "execute_result"
    }
   ],
   "source": [
    "## total of missing in each column after converting\n",
    "azdias.isnull().sum()"
   ]
  },
  {
   "cell_type": "markdown",
   "metadata": {},
   "source": [
    "#### Step 1.1.2: Assess Missing Data in Each Column\n",
    "\n",
    "How much missing data is present in each column? There are a few columns that are outliers in terms of the proportion of values that are missing. You will want to use matplotlib's [`hist()`](https://matplotlib.org/api/_as_gen/matplotlib.pyplot.hist.html) function to visualize the distribution of missing value counts to find these columns. Identify and document these columns. While some of these columns might have justifications for keeping or re-encoding the data, for this project you should just remove them from the dataframe. (Feel free to make remarks about these outlier columns in the discussion, however!)\n",
    "\n",
    "For the remaining features, are there any patterns in which columns have, or share, missing data?"
   ]
  },
  {
   "cell_type": "code",
   "execution_count": 13,
   "metadata": {},
   "outputs": [
    {
     "data": {
      "text/plain": [
       "Text(0.5,1,'Probability of missing values in each column')"
      ]
     },
     "execution_count": 13,
     "metadata": {},
     "output_type": "execute_result"
    },
    {
     "data": {
      "image/png": "[encoded data removed]",
      "text/plain": [
       "<matplotlib.figure.Figure at 0x7f1e311be9b0>"
      ]
     },
     "metadata": {
      "needs_background": "light"
     },
     "output_type": "display_data"
    }
   ],
   "source": [
    "# Perform an assessment of how much missing data there is in each column of the\n",
    "# dataset.\n",
    "missing_columns = azdias.isnull().sum()/azdias.shape[0]\n",
    "missing_columns.hist()\n",
    "plt.xlabel('percentage')\n",
    "plt.ylabel('Count')\n",
    "plt.title('Probability of missing values in each column')\n"
   ]
  },
  {
   "cell_type": "code",
   "execution_count": 14,
   "metadata": {},
   "outputs": [
    {
     "data": {
      "text/plain": [
       "Text(0.5,1,'Probability of missing values in the columns with less than 20% missing values')"
      ]
     },
     "execution_count": 14,
     "metadata": {},
     "output_type": "execute_result"
    },
    {
     "data": {
      "image/png": "[encoded data removed]",
      "text/plain": [
       "<matplotlib.figure.Figure at 0x7f1e3129e0b8>"
      ]
     },
     "metadata": {
      "needs_background": "light"
     },
     "output_type": "display_data"
    }
   ],
   "source": [
    "# Investigate patterns in the amount of missing data in each column.\n",
    "# investigate on the pattern of missing values for the columns with less than 20% missing values\n",
    "\n",
    "missing_columns_20 = missing_columns[missing_columns < 0.2]\n",
    "missing_columns_20.hist()\n",
    "plt.xlabel('percentage')\n",
    "plt.ylabel('Count')\n",
    "plt.title('Probability of missing values in the columns with less than 20% missing values')\n"
   ]
  },
  {
   "cell_type": "code",
   "execution_count": 15,
   "metadata": {},
   "outputs": [],
   "source": [
    "# Remove the outlier columns from the dataset. (You'll perform other data\n",
    "# engineering tasks such as re-encoding and imputation later.)\n",
    "outlier = missing_columns[missing_columns > 0.2].index\n",
    "azdias = azdias.drop(outlier,axis=1)\n",
    "outlier # which variables are outliers \n",
    "# remove the feature informations for outliers\n",
    "feat_info_No_Outlier = feat_info[feat_info.index.isin(outlier) == False]\n"
   ]
  },
  {
   "cell_type": "code",
   "execution_count": 16,
   "metadata": {},
   "outputs": [
    {
     "name": "stdout",
     "output_type": "stream",
     "text": [
      "Index(['AGER_TYP', 'GEBURTSJAHR', 'TITEL_KZ', 'ALTER_HH', 'KK_KUNDENTYP',\n",
      "       'KBA05_BAUMAX'],\n",
      "      dtype='object')\n"
     ]
    }
   ],
   "source": [
    "print(outlier)"
   ]
  },
  {
   "cell_type": "code",
   "execution_count": 17,
   "metadata": {},
   "outputs": [
    {
     "data": {
      "text/plain": [
       "(891221, 79)"
      ]
     },
     "execution_count": 17,
     "metadata": {},
     "output_type": "execute_result"
    }
   ],
   "source": [
    "azdias.shape"
   ]
  },
  {
   "cell_type": "markdown",
   "metadata": {},
   "source": [
    "#### Discussion 1.1.2: Assess Missing Data in Each Column\n",
    "The total number of missing values in the dataset is 8373929. Based on the distribution of missing values, there are afew features that caused most of missing values. These features are 'AGER_TYP', 'GEBURTSJAHR', 'TITEL_KZ', 'ALTER_HH', 'KK_KUNDENTYP' and'KBA05_BAUMAX' that have more than 20% missing values overall. These fields might not be mandatory since we have so many missing values in them, so I removed them from the rest of analysis. The distribution of missing values for features with less than 20% has almost normal distribution. And most of them has close to zero missing values that I kept in my analysis, and will be treated in the steps. Then I continue my work with 79 features.    \n"
   ]
  },
  {
   "cell_type": "markdown",
   "metadata": {},
   "source": [
    "#### Step 1.1.3: Assess Missing Data in Each Row\n",
    "\n",
    "Now, you'll perform a similar assessment for the rows of the dataset. How much data is missing in each row? As with the columns, you should see some groups of points that have a very different numbers of missing values. Divide the data into two subsets: one for data points that are above some threshold for missing values, and a second subset for points below that threshold.\n",
    "\n",
    "In order to know what to do with the outlier rows, we should see if the distribution of data values on columns that are not missing data (or are missing very little data) are similar or different between the two groups. Select at least five of these columns and compare the distribution of values.\n",
    "- You can use seaborn's [`countplot()`](https://seaborn.pydata.org/generated/seaborn.countplot.html) function to create a bar chart of code frequencies and matplotlib's [`subplot()`](https://matplotlib.org/api/_as_gen/matplotlib.pyplot.subplot.html) function to put bar charts for the two subplots side by side.\n",
    "- To reduce repeated code, you might want to write a function that can perform this comparison, taking as one of its arguments a column to be compared.\n",
    "\n",
    "Depending on what you observe in your comparison, this will have implications on how you approach your conclusions later in the analysis. If the distributions of non-missing features look similar between the data with many missing values and the data with few or no missing values, then we could argue that simply dropping those points from the analysis won't present a major issue. On the other hand, if the data with many missing values looks very different from the data with few or no missing values, then we should make a note on those data as special. We'll revisit these data later on. **Either way, you should continue your analysis for now using just the subset of the data with few or no missing values.**"
   ]
  },
  {
   "cell_type": "code",
   "execution_count": 18,
   "metadata": {},
   "outputs": [
    {
     "name": "stdout",
     "output_type": "stream",
     "text": [
      "0         43\n",
      "1          0\n",
      "2          0\n",
      "3          7\n",
      "4          0\n",
      "5          0\n",
      "6          0\n",
      "7          0\n",
      "8          0\n",
      "9          0\n",
      "10         0\n",
      "11        47\n",
      "12         6\n",
      "13         8\n",
      "14        47\n",
      "15         8\n",
      "16         6\n",
      "17        47\n",
      "18         3\n",
      "19         0\n",
      "20        10\n",
      "21         0\n",
      "22         0\n",
      "23         8\n",
      "24        47\n",
      "25         5\n",
      "26        19\n",
      "27         0\n",
      "28         0\n",
      "29         2\n",
      "          ..\n",
      "891191     0\n",
      "891192     0\n",
      "891193     0\n",
      "891194     0\n",
      "891195     0\n",
      "891196     0\n",
      "891197     0\n",
      "891198     0\n",
      "891199     0\n",
      "891200     0\n",
      "891201     0\n",
      "891202     0\n",
      "891203    14\n",
      "891204     0\n",
      "891205     0\n",
      "891206     0\n",
      "891207     0\n",
      "891208     3\n",
      "891209     0\n",
      "891210     0\n",
      "891211     0\n",
      "891212     0\n",
      "891213     0\n",
      "891214     0\n",
      "891215     0\n",
      "891216     3\n",
      "891217     4\n",
      "891218     5\n",
      "891219     0\n",
      "891220     0\n",
      "Length: 891221, dtype: int64\n"
     ]
    }
   ],
   "source": [
    "# How much data is missing in each row of the dataset?\n",
    "missing_rows = azdias.isnull().sum(axis = 1)\n",
    "print(missing_rows)"
   ]
  },
  {
   "cell_type": "code",
   "execution_count": 19,
   "metadata": {},
   "outputs": [
    {
     "data": {
      "text/plain": [
       "<matplotlib.axes._subplots.AxesSubplot at 0x7f1e2e994588>"
      ]
     },
     "execution_count": 19,
     "metadata": {},
     "output_type": "execute_result"
    },
    {
     "data": {
      "image/png": "[encoded data removed]",
      "text/plain": [
       "<matplotlib.figure.Figure at 0x7f1e2e9c0eb8>"
      ]
     },
     "metadata": {
      "needs_background": "light"
     },
     "output_type": "display_data"
    }
   ],
   "source": [
    "missing_rows = azdias.isnull().sum(axis=1)\n",
    "missing_rows.hist()"
   ]
  },
  {
   "cell_type": "code",
   "execution_count": 20,
   "metadata": {},
   "outputs": [
    {
     "name": "stdout",
     "output_type": "stream",
     "text": [
      "count    891221.000000\n",
      "mean          5.649894\n",
      "std          13.234687\n",
      "min           0.000000\n",
      "25%           0.000000\n",
      "50%           0.000000\n",
      "75%           3.000000\n",
      "max          49.000000\n",
      "dtype: float64\n"
     ]
    }
   ],
   "source": [
    "# How much data is missing in each row of the dataset?\n",
    "azdias_missing_total = azdias.isnull().sum(axis = 1).describe()\n",
    "print(azdias_missing_total)"
   ]
  },
  {
   "cell_type": "code",
   "execution_count": 21,
   "metadata": {},
   "outputs": [
    {
     "data": {
      "text/plain": [
       "0.69927548834688591"
      ]
     },
     "execution_count": 21,
     "metadata": {},
     "output_type": "execute_result"
    }
   ],
   "source": [
    "# what percentages of rows that are complete\n",
    "# add a dummay column \n",
    "azdias['complete'] = azdias.isnull().sum(axis = 1) == 0\n",
    "# Count of complete rows\n",
    "azdias.complete.sum()\n",
    "# percentage of complete data\n",
    "azdias.complete.sum()/len(azdias)"
   ]
  },
  {
   "cell_type": "code",
   "execution_count": 22,
   "metadata": {},
   "outputs": [],
   "source": [
    "# Write code to divide the data into two subsets based on the number of missing\n",
    "# values in each row.\n",
    "azdias_more_nans = azdias[azdias.isnull().sum(axis=1) > 3].copy()\n",
    "azdias_less_nans = azdias[azdias.isnull().sum(axis=1) <= 3].copy()"
   ]
  },
  {
   "cell_type": "code",
   "execution_count": 23,
   "metadata": {},
   "outputs": [
    {
     "data": {
      "text/plain": [
       "(206719, 80)"
      ]
     },
     "execution_count": 23,
     "metadata": {},
     "output_type": "execute_result"
    }
   ],
   "source": [
    "azdias_more_nans.shape"
   ]
  },
  {
   "cell_type": "code",
   "execution_count": 24,
   "metadata": {},
   "outputs": [
    {
     "data": {
      "text/plain": [
       "4910827"
      ]
     },
     "execution_count": 24,
     "metadata": {},
     "output_type": "execute_result"
    }
   ],
   "source": [
    "azdias_more_nans.isnull().sum(axis=1).sum()"
   ]
  },
  {
   "cell_type": "code",
   "execution_count": 25,
   "metadata": {},
   "outputs": [
    {
     "data": {
      "text/plain": [
       "(684502, 80)"
      ]
     },
     "execution_count": 25,
     "metadata": {},
     "output_type": "execute_result"
    }
   ],
   "source": [
    "azdias_less_nans.shape"
   ]
  },
  {
   "cell_type": "code",
   "execution_count": 26,
   "metadata": {},
   "outputs": [
    {
     "name": "stdout",
     "output_type": "stream",
     "text": [
      "['ANREDE_KZ', 'FINANZ_MINIMALIST', 'FINANZ_SPARER', 'FINANZ_VORSORGER', 'FINANZ_ANLEGER', 'FINANZ_UNAUFFAELLIGER', 'FINANZ_HAUSBAUER', 'FINANZTYP', 'GREEN_AVANTGARDE', 'SEMIO_SOZ', 'SEMIO_FAM', 'SEMIO_REL', 'SEMIO_MAT', 'SEMIO_VERT', 'SEMIO_LUST', 'SEMIO_ERL', 'SEMIO_KULT', 'SEMIO_RAT', 'SEMIO_KRIT', 'SEMIO_DOM', 'SEMIO_KAEM', 'SEMIO_PFLICHT', 'SEMIO_TRADV', 'ZABEOTYP', 'complete']\n"
     ]
    }
   ],
   "source": [
    "# Compare the distribution of values for at least five columns where there are\n",
    "# no or few missing values, between the two subsets.\n",
    "# list of variables with no missing\n",
    "azdias_more_nans_no_missing = []\n",
    "azdias_less_nans_no_missing = []\n",
    "for idx in range(azdias_more_nans.shape[1]):\n",
    "    if azdias_more_nans.iloc[:,idx].isnull().sum() == 0:\n",
    "        azdias_more_nans_no_missing.append(azdias_more_nans.columns[idx])\n",
    "        \n",
    "print(azdias_more_nans_no_missing)         \n"
   ]
  },
  {
   "cell_type": "code",
   "execution_count": 27,
   "metadata": {},
   "outputs": [
    {
     "name": "stdout",
     "output_type": "stream",
     "text": [
      "['ALTERSKATEGORIE_GROB', 'ANREDE_KZ', 'CJT_GESAMTTYP', 'FINANZ_MINIMALIST', 'FINANZ_SPARER', 'FINANZ_VORSORGER', 'FINANZ_ANLEGER', 'FINANZ_UNAUFFAELLIGER', 'FINANZ_HAUSBAUER', 'FINANZTYP', 'GFK_URLAUBERTYP', 'GREEN_AVANTGARDE', 'HEALTH_TYP', 'LP_FAMILIE_FEIN', 'LP_FAMILIE_GROB', 'LP_STATUS_FEIN', 'LP_STATUS_GROB', 'NATIONALITAET_KZ', 'RETOURTYP_BK_S', 'SEMIO_SOZ', 'SEMIO_FAM', 'SEMIO_REL', 'SEMIO_MAT', 'SEMIO_VERT', 'SEMIO_LUST', 'SEMIO_ERL', 'SEMIO_KULT', 'SEMIO_RAT', 'SEMIO_KRIT', 'SEMIO_DOM', 'SEMIO_KAEM', 'SEMIO_PFLICHT', 'SEMIO_TRADV', 'SHOPPER_TYP', 'SOHO_KZ', 'VERS_TYP', 'ZABEOTYP', 'ANZ_PERSONEN', 'ANZ_TITEL', 'HH_EINKOMMEN_SCORE', 'WOHNDAUER_2008', 'GEBAEUDETYP', 'MIN_GEBAEUDEJAHR', 'OST_WEST_KZ', 'WOHNLAGE', 'KBA05_ANTG1', 'KBA05_ANTG2', 'KBA05_ANTG3', 'KBA05_ANTG4', 'KBA05_GBZ', 'MOBI_REGIO', 'ONLINE_AFFINITAET', 'PLZ8_ANTG1', 'PLZ8_ANTG2', 'PLZ8_ANTG3', 'PLZ8_ANTG4', 'PLZ8_BAUMAX', 'PLZ8_HHZ', 'PLZ8_GBZ', 'complete']\n"
     ]
    }
   ],
   "source": [
    "for idx in range(azdias_less_nans.shape[1]):\n",
    "    if azdias_less_nans.iloc[:,idx].isnull().sum() == 0:\n",
    "        azdias_less_nans_no_missing.append(azdias_less_nans.columns[idx])      \n",
    "        \n",
    "print(azdias_less_nans_no_missing)"
   ]
  },
  {
   "cell_type": "code",
   "execution_count": 28,
   "metadata": {},
   "outputs": [
    {
     "name": "stdout",
     "output_type": "stream",
     "text": [
      "['ZABEOTYP', 'SEMIO_MAT', 'SEMIO_KRIT', 'FINANZ_SPARER', 'SEMIO_ERL', 'SEMIO_KAEM', 'SEMIO_TRADV', 'SEMIO_VERT', 'SEMIO_REL', 'FINANZ_VORSORGER', 'FINANZ_ANLEGER', 'SEMIO_LUST', 'SEMIO_DOM', 'SEMIO_KULT', 'SEMIO_SOZ', 'SEMIO_RAT', 'SEMIO_FAM', 'FINANZTYP', 'GREEN_AVANTGARDE', 'FINANZ_UNAUFFAELLIGER', 'FINANZ_MINIMALIST', 'ANREDE_KZ', 'FINANZ_HAUSBAUER', 'complete', 'SEMIO_PFLICHT']\n"
     ]
    }
   ],
   "source": [
    "### common variables with no missing in both data sets\n",
    "azdias_common_no_missing = list(set(azdias_more_nans_no_missing).intersection(azdias_less_nans_no_missing))\n",
    "print(azdias_common_no_missing)"
   ]
  },
  {
   "cell_type": "code",
   "execution_count": 29,
   "metadata": {},
   "outputs": [],
   "source": [
    "def barplots(variables):\n",
    "    len_row = len(variables)\n",
    "    fig,ax = plt.subplots(figsize=(20,35) , ncols =2 , nrows = len_row , squeeze = False)\n",
    "    ax[0][0].set_title(\"Data with Many Missing Values\")\n",
    "    ax[0][1].set_title(\"Data with Less Missing Values\")\n",
    "\n",
    "    for i in range(len_row):\n",
    "        sns.countplot(x=variables[i] , data = azdias_more_nans, ax=ax[i][0])\n",
    "        sns.countplot(x=variables[i] , data = azdias_less_nans , ax=ax[i][1])"
   ]
  },
  {
   "cell_type": "code",
   "execution_count": 127,
   "metadata": {
    "scrolled": true
   },
   "outputs": [
    {
     "data": {
      "image/png": "[encoded data removed]",
      "text/plain": [
       "<matplotlib.figure.Figure at 0x7f0b9507a470>"
      ]
     },
     "metadata": {
      "needs_background": "light"
     },
     "output_type": "display_data"
    }
   ],
   "source": [
    "barplots(['ZABEOTYP','ANREDE_KZ','SEMIO_RAT','SEMIO_DOM','FINANZ_UNAUFFAELLIGER','SEMIO_PFLICHT'])\n"
   ]
  },
  {
   "cell_type": "markdown",
   "metadata": {},
   "source": [
    "#### Discussion 1.1.3: Assess Missing Data in Each Row\n",
    "\n",
    "About 70% of rows are complete with no missing values. To assess the distribution of missing rows in the data, I split the data if the missing values for each row is greater than 3 or less , and with in each subset I compared the distribution of nonmissing columns. There are about 24 features that have no missing rows in each subset. It seems to be a difference in the distribution of some demographic features, like 'SEMIO_DOM' ,'FINANZ_UNAUFFAELLIGER' and 'SEMIO_PFLICHT'. And same distribution for 'ANREDE_KZ' and barplots(['ZABEOTYP','ANREDE_KZ','SEMIO_RAT','SEMIO_DOM','FINANZ_UNAUFFAELLIGER','SEMIO_PFLICHT'])\n",
    ". I decided to continue my analysis on just data with less missing values. "
   ]
  },
  {
   "cell_type": "markdown",
   "metadata": {},
   "source": [
    "### Step 1.2: Select and Re-Encode Features\n",
    "\n",
    "Checking for missing data isn't the only way in which you can prepare a dataset for analysis. Since the unsupervised learning techniques to be used will only work on data that is encoded numerically, you need to make a few encoding changes or additional assumptions to be able to make progress. In addition, while almost all of the values in the dataset are encoded using numbers, not all of them represent numeric values. Check the third column of the feature summary (`feat_info`) for a summary of types of measurement.\n",
    "- For numeric and interval data, these features can be kept without changes.\n",
    "- Most of the variables in the dataset are ordinal in nature. While ordinal values may technically be non-linear in spacing, make the simplifying assumption that the ordinal variables can be treated as being interval in nature (that is, kept without any changes).\n",
    "- Special handling may be necessary for the remaining two variable types: categorical, and 'mixed'.\n",
    "\n",
    "In the first two parts of this sub-step, you will perform an investigation of the categorical and mixed-type features and make a decision on each of them, whether you will keep, drop, or re-encode each. Then, in the last part, you will create a new data frame with only the selected and engineered columns.\n",
    "\n",
    "Data wrangling is often the trickiest part of the data analysis process, and there's a lot of it to be done here. But stick with it: once you're done with this step, you'll be ready to get to the machine learning parts of the project!"
   ]
  },
  {
   "cell_type": "code",
   "execution_count": 30,
   "metadata": {},
   "outputs": [
    {
     "data": {
      "text/plain": [
       "type\n",
       "categorical    18\n",
       "mixed           6\n",
       "numeric         6\n",
       "ordinal        49\n",
       "dtype: int64"
      ]
     },
     "execution_count": 30,
     "metadata": {},
     "output_type": "execute_result"
    }
   ],
   "source": [
    "# How many features are there of each data type?\n",
    "variabels = list(azdias_less_nans)\n",
    "feat_info_new =feat_info[feat_info['attribute'].isin(variabels)]\n",
    "feat_info_new.groupby(by = \"type\").size()\n"
   ]
  },
  {
   "cell_type": "markdown",
   "metadata": {},
   "source": [
    "#### Step 1.2.1: Re-Encode Categorical Features\n",
    "\n",
    "For categorical data, you would ordinarily need to encode the levels as dummy variables. Depending on the number of categories, perform one of the following:\n",
    "- For binary (two-level) categoricals that take numeric values, you can keep them without needing to do anything.\n",
    "- There is one binary variable that takes on non-numeric values. For this one, you need to re-encode the values as numbers or create a dummy variable.\n",
    "- For multi-level categoricals (three or more values), you can choose to encode the values using multiple dummy variables (e.g. via [OneHotEncoder](http://scikit-learn.org/stable/modules/generated/sklearn.preprocessing.OneHotEncoder.html)), or (to keep things straightforward) just drop them from the analysis. As always, document your choices in the Discussion section."
   ]
  },
  {
   "cell_type": "code",
   "execution_count": 31,
   "metadata": {},
   "outputs": [
    {
     "name": "stdout",
     "output_type": "stream",
     "text": [
      "Binary Variables: ['ANREDE_KZ', 'GREEN_AVANTGARDE', 'SOHO_KZ', 'VERS_TYP', 'OST_WEST_KZ']\n",
      "Multi-level Variables : ['CJT_GESAMTTYP', 'FINANZTYP', 'GFK_URLAUBERTYP', 'LP_FAMILIE_FEIN', 'LP_FAMILIE_GROB', 'LP_STATUS_FEIN', 'LP_STATUS_GROB', 'NATIONALITAET_KZ', 'SHOPPER_TYP', 'ZABEOTYP', 'GEBAEUDETYP', 'CAMEO_DEUG_2015', 'CAMEO_DEU_2015']\n"
     ]
    }
   ],
   "source": [
    "categorical_vars = feat_info_new[feat_info_new['type'] == 'categorical'].attribute\n",
    "binary_vars = []\n",
    "multi_level_vars=[]\n",
    "\n",
    "for i in categorical_vars:\n",
    "    if (len(azdias_less_nans[i].unique())==2):\n",
    "        binary_vars.append(i)\n",
    "    elif (len(azdias_less_nans[i].unique())>2):\n",
    "        multi_level_vars.append(i)\n",
    "        \n",
    "        \n",
    "print('Binary Variables: {}'.format(binary_vars))\n",
    "print('Multi-level Variables : {}'.format(multi_level_vars))"
   ]
  },
  {
   "cell_type": "code",
   "execution_count": 32,
   "metadata": {},
   "outputs": [],
   "source": [
    "### drop the multi level variables\n",
    "for i in multi_level_vars:\n",
    "    azdias_less_nans = azdias_less_nans.drop(i, axis=1)"
   ]
  },
  {
   "cell_type": "code",
   "execution_count": 33,
   "metadata": {},
   "outputs": [
    {
     "data": {
      "text/plain": [
       "(684502, 67)"
      ]
     },
     "execution_count": 33,
     "metadata": {},
     "output_type": "execute_result"
    }
   ],
   "source": [
    "azdias_less_nans.shape"
   ]
  },
  {
   "cell_type": "code",
   "execution_count": 34,
   "metadata": {},
   "outputs": [],
   "source": [
    "# Re-encode categorical variable(s) to be kept in the analysis.\n",
    "azdias_less_nans['OST_WEST_KZ_1'] = azdias_less_nans['OST_WEST_KZ']\n",
    "dummy = {'W' :0 ,'O':1}\n",
    "azdias_new = azdias_less_nans.replace({'OST_WEST_KZ_1':dummy})\n",
    "azdias_new.drop(['OST_WEST_KZ'], axis=1 , inplace=True)\n"
   ]
  },
  {
   "cell_type": "code",
   "execution_count": 35,
   "metadata": {},
   "outputs": [
    {
     "data": {
      "text/plain": [
       "(684502, 67)"
      ]
     },
     "execution_count": 35,
     "metadata": {},
     "output_type": "execute_result"
    }
   ],
   "source": [
    "azdias_new.shape"
   ]
  },
  {
   "cell_type": "code",
   "execution_count": null,
   "metadata": {},
   "outputs": [],
   "source": [
    "## re_Encode the multilevel vars (Not part of this work)\n",
    "multi_level_vars_df = pd.DataFrame(azdias_less_nans[multi_level_vars], columns = multi_level_vars)\n",
    "multi_level_vars_df.shape"
   ]
  },
  {
   "cell_type": "code",
   "execution_count": 91,
   "metadata": {},
   "outputs": [
    {
     "data": {
      "text/plain": [
       "CJT_GESAMTTYP          0\n",
       "FINANZTYP              0\n",
       "GFK_URLAUBERTYP        0\n",
       "LP_FAMILIE_FEIN        0\n",
       "LP_FAMILIE_GROB        0\n",
       "LP_STATUS_FEIN         0\n",
       "LP_STATUS_GROB         0\n",
       "NATIONALITAET_KZ       0\n",
       "SHOPPER_TYP            0\n",
       "ZABEOTYP               0\n",
       "GEBAEUDETYP            0\n",
       "CAMEO_DEUG_2015     2639\n",
       "CAMEO_DEU_2015      2639\n",
       "dtype: int64"
      ]
     },
     "execution_count": 91,
     "metadata": {},
     "output_type": "execute_result"
    }
   ],
   "source": [
    "## check which of this multilevel variables has missing values\n",
    "multi_level_vars_df.isnull().sum(axis = 0)"
   ]
  },
  {
   "cell_type": "code",
   "execution_count": 106,
   "metadata": {},
   "outputs": [
    {
     "data": {
      "text/plain": [
       "(684502, 150)"
      ]
     },
     "execution_count": 106,
     "metadata": {},
     "output_type": "execute_result"
    }
   ],
   "source": [
    "## remove the CAMEO_DEUG_2015 and CAMEO_DEU_2015 from analysis because of missing values\n",
    "multi_level_vars_df_1 = multi_level_vars_df.drop(['CAMEO_DEUG_2015'], axis = 1) \n",
    "multi_level_vars_df_2 = multi_level_vars_df_1.drop(['CAMEO_DEU_2015'], axis = 1) \n",
    "multi_level_vars_df_2 = multi_level_vars_df_2.astype(str)\n",
    "## encoding the rest\n",
    "\n",
    "multi_level_vars_df_3 = pd.get_dummies(multi_level_vars_df_2)\n",
    "## drop original values\n",
    "#multi_level_vars_df_encoded = multi_level_vars_df_3.drop(multi_level_vars, axis=1 , inplace=True)\n",
    "#multi_level_vars_df_3.head\n",
    "# join with acutal azidas data\n",
    "azdias_encoded = pd.concat([azdias_less_nans, multi_level_vars_df_3], axis =1)\n",
    "azdias_encoded.shape"
   ]
  },
  {
   "cell_type": "markdown",
   "metadata": {},
   "source": [
    "#### Discussion 1.2.1: Re-Encode Categorical Features\n",
    "\n",
    "There are about 18 categorical variables which 5 are binary and 13 are multi levels features. Also, 8 columns that are mixed and intervals. I removed the multi level and mixed variables and encoded the binary ones. I dropped the multilevel ones to speed up the rest of analysis, because in this cas we would have 150 columns. The non_numeric binary variable, OST_WEST_KZ, is replaced with dummy 0 and 1, and the original column is removed from the rest of analysis. "
   ]
  },
  {
   "cell_type": "markdown",
   "metadata": {},
   "source": [
    "#### Step 1.2.2: Engineer Mixed-Type Features\n",
    "\n",
    "There are a handful of features that are marked as \"mixed\" in the feature summary that require special treatment in order to be included in the analysis. There are two in particular that deserve attention; the handling of the rest are up to your own choices:\n",
    "- \"PRAEGENDE_JUGENDJAHRE\" combines information on three dimensions: generation by decade, movement (mainstream vs. avantgarde), and nation (east vs. west). While there aren't enough levels to disentangle east from west, you should create two new variables to capture the other two dimensions: an interval-type variable for decade, and a binary variable for movement.\n",
    "- \"CAMEO_INTL_2015\" combines information on two axes: wealth and life stage. Break up the two-digit codes by their 'tens'-place and 'ones'-place digits into two new ordinal variables (which, for the purposes of this project, is equivalent to just treating them as their raw numeric values).\n",
    "- If you decide to keep or engineer new features around the other mixed-type features, make sure you note your steps in the Discussion section.\n",
    "\n",
    "Be sure to check `Data_Dictionary.md` for the details needed to finish these tasks."
   ]
  },
  {
   "cell_type": "code",
   "execution_count": 37,
   "metadata": {},
   "outputs": [],
   "source": [
    "# Investigate \"PRAEGENDE_JUGENDJAHRE\" and engineer two new variables.\n",
    "azdias_new['decade'] = azdias_new['PRAEGENDE_JUGENDJAHRE']\n",
    "azdias_new['movement'] = azdias_new['PRAEGENDE_JUGENDJAHRE']\n",
    "## create a dictionary for the first two dimensions\n",
    "dec_dict = {1:1 ,2:1 ,3:2,4:2,5:3,6:3,7:3,8:4,9:4,10:5,11:5,12:5,13:5,14:6,15:6}\n",
    "move_dict = {1:1,2:0,3:1,4:0,5:1,6:0,7:0,8:1,9:0,10:1,11:0,12:1,13:0,14:1,15:0}\n",
    "# remove original variable from dataset\n",
    "azdias_new['decade'].replace(dec_dict,inplace=True)\n",
    "azdias_new['movement'].replace(move_dict,inplace=True)\n"
   ]
  },
  {
   "cell_type": "code",
   "execution_count": 38,
   "metadata": {},
   "outputs": [],
   "source": [
    "# Investigate \"CAMEO_INTL_2015\" and engineer two new variables.\n",
    "# Investigate \"PRAEGENDE_JUGENDJAHRE\" and engineer two new variables.\n",
    "azdias_new['wealth'] = azdias_new['CAMEO_INTL_2015']\n",
    "azdias_new['life_stage'] = azdias_new['CAMEO_INTL_2015']\n",
    "wealth_dict = {'11':1,'12':1,'13':1,'14':1,'15':1,'21':2,'22':2,'23':2,'24':2,'25':2,'31':3,'32':3,'33':3,'34':3,'35':3,\n",
    "              '41':4,'42':4,'43':4,'44':4,'45':4,'51':5,'52':5,'53':5,'54':5,'55':5}\n",
    "life_stage_dict = {'11':1,'12':1,'13':1,'14':1,'15':1,'21':2,'22':2,'23':2,'24':2,'25':2,'31':3,'32':3,'33':3,'34':3,'35':3,\n",
    "              '41':4,'42':4,'43':4,'44':4,'45':4,'51':5,'52':5,'53':5,'54':5,'55':5}\n",
    "### replace with the values in dictionary \n",
    "azdias_new['wealth'].replace(wealth_dict,inplace=True)\n",
    "azdias_new['life_stage'].replace(life_stage_dict,inplace=True)\n"
   ]
  },
  {
   "cell_type": "code",
   "execution_count": 39,
   "metadata": {},
   "outputs": [],
   "source": [
    "# remove mixed variables\n",
    "## remove mixed vars\n",
    "mixed_vars = feat_info_new[feat_info_new[\"type\"]==\"mixed\"][\"attribute\"]\n",
    "#print(mixed_vars)\n",
    "for i in mixed_vars:\n",
    "    azdias_new.drop(i, axis=1, inplace=True)"
   ]
  },
  {
   "cell_type": "code",
   "execution_count": 40,
   "metadata": {},
   "outputs": [
    {
     "data": {
      "text/plain": [
       "(684502, 65)"
      ]
     },
     "execution_count": 40,
     "metadata": {},
     "output_type": "execute_result"
    }
   ],
   "source": [
    "azdias_new.shape"
   ]
  },
  {
   "cell_type": "code",
   "execution_count": 139,
   "metadata": {},
   "outputs": [
    {
     "data": {
      "text/html": [
       "<div>\n",
       "<style scoped>\n",
       "    .dataframe tbody tr th:only-of-type {\n",
       "        vertical-align: middle;\n",
       "    }\n",
       "\n",
       "    .dataframe tbody tr th {\n",
       "        vertical-align: top;\n",
       "    }\n",
       "\n",
       "    .dataframe thead th {\n",
       "        text-align: right;\n",
       "    }\n",
       "</style>\n",
       "<table border=\"1\" class=\"dataframe\">\n",
       "  <thead>\n",
       "    <tr style=\"text-align: right;\">\n",
       "      <th></th>\n",
       "      <th>ALTERSKATEGORIE_GROB</th>\n",
       "      <th>ANREDE_KZ</th>\n",
       "      <th>FINANZ_MINIMALIST</th>\n",
       "      <th>FINANZ_SPARER</th>\n",
       "      <th>FINANZ_VORSORGER</th>\n",
       "      <th>FINANZ_ANLEGER</th>\n",
       "      <th>FINANZ_UNAUFFAELLIGER</th>\n",
       "      <th>FINANZ_HAUSBAUER</th>\n",
       "      <th>GREEN_AVANTGARDE</th>\n",
       "      <th>HEALTH_TYP</th>\n",
       "      <th>...</th>\n",
       "      <th>PLZ8_GBZ</th>\n",
       "      <th>ARBEIT</th>\n",
       "      <th>ORTSGR_KLS9</th>\n",
       "      <th>RELAT_AB</th>\n",
       "      <th>complete</th>\n",
       "      <th>OST_WEST_KZ_1</th>\n",
       "      <th>decade</th>\n",
       "      <th>movement</th>\n",
       "      <th>wealth</th>\n",
       "      <th>life_stage</th>\n",
       "    </tr>\n",
       "  </thead>\n",
       "  <tbody>\n",
       "    <tr>\n",
       "      <th>1</th>\n",
       "      <td>1.0</td>\n",
       "      <td>2</td>\n",
       "      <td>1</td>\n",
       "      <td>5</td>\n",
       "      <td>2</td>\n",
       "      <td>5</td>\n",
       "      <td>4</td>\n",
       "      <td>5</td>\n",
       "      <td>0</td>\n",
       "      <td>3.0</td>\n",
       "      <td>...</td>\n",
       "      <td>4.0</td>\n",
       "      <td>3.0</td>\n",
       "      <td>5.0</td>\n",
       "      <td>4.0</td>\n",
       "      <td>True</td>\n",
       "      <td>0</td>\n",
       "      <td>6.0</td>\n",
       "      <td>1.0</td>\n",
       "      <td>5.0</td>\n",
       "      <td>5.0</td>\n",
       "    </tr>\n",
       "    <tr>\n",
       "      <th>2</th>\n",
       "      <td>3.0</td>\n",
       "      <td>2</td>\n",
       "      <td>1</td>\n",
       "      <td>4</td>\n",
       "      <td>1</td>\n",
       "      <td>2</td>\n",
       "      <td>3</td>\n",
       "      <td>5</td>\n",
       "      <td>1</td>\n",
       "      <td>3.0</td>\n",
       "      <td>...</td>\n",
       "      <td>4.0</td>\n",
       "      <td>3.0</td>\n",
       "      <td>5.0</td>\n",
       "      <td>2.0</td>\n",
       "      <td>True</td>\n",
       "      <td>0</td>\n",
       "      <td>6.0</td>\n",
       "      <td>0.0</td>\n",
       "      <td>2.0</td>\n",
       "      <td>2.0</td>\n",
       "    </tr>\n",
       "    <tr>\n",
       "      <th>4</th>\n",
       "      <td>3.0</td>\n",
       "      <td>1</td>\n",
       "      <td>4</td>\n",
       "      <td>3</td>\n",
       "      <td>4</td>\n",
       "      <td>1</td>\n",
       "      <td>3</td>\n",
       "      <td>2</td>\n",
       "      <td>0</td>\n",
       "      <td>3.0</td>\n",
       "      <td>...</td>\n",
       "      <td>3.0</td>\n",
       "      <td>4.0</td>\n",
       "      <td>6.0</td>\n",
       "      <td>5.0</td>\n",
       "      <td>True</td>\n",
       "      <td>0</td>\n",
       "      <td>4.0</td>\n",
       "      <td>1.0</td>\n",
       "      <td>4.0</td>\n",
       "      <td>4.0</td>\n",
       "    </tr>\n",
       "    <tr>\n",
       "      <th>5</th>\n",
       "      <td>1.0</td>\n",
       "      <td>2</td>\n",
       "      <td>3</td>\n",
       "      <td>1</td>\n",
       "      <td>5</td>\n",
       "      <td>2</td>\n",
       "      <td>2</td>\n",
       "      <td>5</td>\n",
       "      <td>0</td>\n",
       "      <td>3.0</td>\n",
       "      <td>...</td>\n",
       "      <td>5.0</td>\n",
       "      <td>2.0</td>\n",
       "      <td>3.0</td>\n",
       "      <td>3.0</td>\n",
       "      <td>True</td>\n",
       "      <td>0</td>\n",
       "      <td>2.0</td>\n",
       "      <td>1.0</td>\n",
       "      <td>5.0</td>\n",
       "      <td>5.0</td>\n",
       "    </tr>\n",
       "    <tr>\n",
       "      <th>6</th>\n",
       "      <td>2.0</td>\n",
       "      <td>2</td>\n",
       "      <td>1</td>\n",
       "      <td>5</td>\n",
       "      <td>1</td>\n",
       "      <td>5</td>\n",
       "      <td>4</td>\n",
       "      <td>3</td>\n",
       "      <td>0</td>\n",
       "      <td>2.0</td>\n",
       "      <td>...</td>\n",
       "      <td>5.0</td>\n",
       "      <td>4.0</td>\n",
       "      <td>6.0</td>\n",
       "      <td>3.0</td>\n",
       "      <td>True</td>\n",
       "      <td>0</td>\n",
       "      <td>5.0</td>\n",
       "      <td>1.0</td>\n",
       "      <td>2.0</td>\n",
       "      <td>2.0</td>\n",
       "    </tr>\n",
       "  </tbody>\n",
       "</table>\n",
       "<p>5 rows × 65 columns</p>\n",
       "</div>"
      ],
      "text/plain": [
       "   ALTERSKATEGORIE_GROB  ANREDE_KZ  FINANZ_MINIMALIST  FINANZ_SPARER  \\\n",
       "1                   1.0          2                  1              5   \n",
       "2                   3.0          2                  1              4   \n",
       "4                   3.0          1                  4              3   \n",
       "5                   1.0          2                  3              1   \n",
       "6                   2.0          2                  1              5   \n",
       "\n",
       "   FINANZ_VORSORGER  FINANZ_ANLEGER  FINANZ_UNAUFFAELLIGER  FINANZ_HAUSBAUER  \\\n",
       "1                 2               5                      4                 5   \n",
       "2                 1               2                      3                 5   \n",
       "4                 4               1                      3                 2   \n",
       "5                 5               2                      2                 5   \n",
       "6                 1               5                      4                 3   \n",
       "\n",
       "   GREEN_AVANTGARDE  HEALTH_TYP     ...      PLZ8_GBZ  ARBEIT  ORTSGR_KLS9  \\\n",
       "1                 0         3.0     ...           4.0     3.0          5.0   \n",
       "2                 1         3.0     ...           4.0     3.0          5.0   \n",
       "4                 0         3.0     ...           3.0     4.0          6.0   \n",
       "5                 0         3.0     ...           5.0     2.0          3.0   \n",
       "6                 0         2.0     ...           5.0     4.0          6.0   \n",
       "\n",
       "   RELAT_AB  complete  OST_WEST_KZ_1  decade  movement  wealth  life_stage  \n",
       "1       4.0      True              0     6.0       1.0     5.0         5.0  \n",
       "2       2.0      True              0     6.0       0.0     2.0         2.0  \n",
       "4       5.0      True              0     4.0       1.0     4.0         4.0  \n",
       "5       3.0      True              0     2.0       1.0     5.0         5.0  \n",
       "6       3.0      True              0     5.0       1.0     2.0         2.0  \n",
       "\n",
       "[5 rows x 65 columns]"
      ]
     },
     "execution_count": 139,
     "metadata": {},
     "output_type": "execute_result"
    }
   ],
   "source": [
    "azdias_new.head()"
   ]
  },
  {
   "cell_type": "code",
   "execution_count": 41,
   "metadata": {},
   "outputs": [],
   "source": [
    "### remove complete column from data\n",
    "del azdias_new ['complete']"
   ]
  },
  {
   "cell_type": "markdown",
   "metadata": {},
   "source": [
    "#### Discussion 1.2.2: Engineer Mixed-Type Features\n",
    "I droped the mixed variabels but kept \"PRAEGENDE_JUGENDJAHRE\" and \"CAMEO_INTL_2015\". The values for these two fauture is seperated to two features. For example \"PRAEGENDE_JUGENDJAHRE\" is split to decade and and the movement associated with, mainstream or avantgarde.  \n",
    "For these two variables I created two dictionary that maps the values for new features and at the end the old ones are replaced with new ones.   \n"
   ]
  },
  {
   "cell_type": "markdown",
   "metadata": {},
   "source": [
    "#### Step 1.2.3: Complete Feature Selection\n",
    "\n",
    "In order to finish this step up, you need to make sure that your data frame now only has the columns that you want to keep. To summarize, the dataframe should consist of the following:\n",
    "- All numeric, interval, and ordinal type columns from the original dataset.\n",
    "- Binary categorical features (all numerically-encoded).\n",
    "- Engineered features from other multi-level categorical features and mixed features.\n",
    "\n",
    "Make sure that for any new columns that you have engineered, that you've excluded the original columns from the final dataset. Otherwise, their values will interfere with the analysis later on the project. For example, you should not keep \"PRAEGENDE_JUGENDJAHRE\", since its values won't be useful for the algorithm: only the values derived from it in the engineered features you created should be retained. As a reminder, your data should only be from **the subset with few or no missing values**."
   ]
  },
  {
   "cell_type": "markdown",
   "metadata": {},
   "source": [
    "### Step 1.3: Create a Cleaning Function\n",
    "\n",
    "Even though you've finished cleaning up the general population demographics data, it's important to look ahead to the future and realize that you'll need to perform the same cleaning steps on the customer demographics data. In this substep, complete the function below to execute the main feature selection, encoding, and re-engineering steps you performed above. Then, when it comes to looking at the customer data in Step 3, you can just run this function on that DataFrame to get the trimmed dataset in a single step."
   ]
  },
  {
   "cell_type": "code",
   "execution_count": 42,
   "metadata": {},
   "outputs": [],
   "source": [
    "### my lists\n",
    "outlier = ['GEBURTSJAHR','AGER_TYP', 'ALTER_HH','TITEL_KZ','KK_KUNDENTYP', 'KBA05_BAUMAX']\n",
    "\n",
    "def clean_data(df):\n",
    "    \"\"\"\n",
    "    Perform feature trimming, re-encoding, and engineering for demographics\n",
    "    data\n",
    "    \n",
    "    INPUT: Demographics DataFrame\n",
    "    OUTPUT: Trimmed and cleaned demographics DataFrame\n",
    "    \"\"\"\n",
    "    \n",
    "    # Put in code here to execute all main cleaning steps:\n",
    "    # convert missing value codes into NaNs, ...\n",
    "    for idx in range(len(feat_info)):\n",
    "        missing_or_unknown = feat_info.iloc[idx]['missing_or_unknown'] # select data by rows\n",
    "        missing_or_unknown = missing_or_unknown.strip('[') # remove []\n",
    "        missing_or_unknown = missing_or_unknown.strip(']')\n",
    "        missing_or_unknown = missing_or_unknown.split(sep = \",\")\n",
    "        missing_or_unknown = [int(value) if (value != 'X' and value != 'XX' and value != '') else value for value in missing_or_unknown]\n",
    "    \n",
    "        if missing_or_unknown != ['']:\n",
    "            df = df.replace({feat_info.iloc[idx]['attribute']: missing_or_unknown} , np.nan) ## replace the values in azdia with Nans\n",
    "        \n",
    "    outlier = ['GEBURTSJAHR','AGER_TYP', 'ALTER_HH','TITEL_KZ','KK_KUNDENTYP', 'KBA05_BAUMAX']\n",
    "    # remove selected columns and rows, ...\n",
    "    df_new = df.drop(outlier , axis=1)\n",
    "        \n",
    "    df_new = df_new[df_new.isnull().sum(axis=1) <= 2]\n",
    "    \n",
    "    ### update the feat_info\n",
    "    variabels = list(df_new)\n",
    "    feat_info_new =feat_info[feat_info['attribute'].isin(variabels)]\n",
    "    \n",
    "    # select, re-encode, and engineer column values.\n",
    "    # df_new ['OST_WEST_KZ_1'] = df_new ['OST_WEST_KZ']\n",
    "    dummy = {'W' :0 ,'O':1}\n",
    "    df_new = df_new.replace({'OST_WEST_KZ':dummy})\n",
    "    # df_new.drop(['OST_WEST_KZ'], axis=1 , inplace=True)\n",
    "    \n",
    "    # drop multi level vars\n",
    "    categorical_vars = feat_info_new[feat_info_new['type'] == 'categorical'].attribute\n",
    "    multi_level_vars=[]\n",
    "\n",
    "    for i in categorical_vars:\n",
    "        if (len(df_new[i].unique())>2):\n",
    "            multi_level_vars.append(i)\n",
    "    for j in multi_level_vars:\n",
    "        df_new=df_new.drop(j, axis=1)\n",
    "    \n",
    "    df_new['decade'] = df_new['PRAEGENDE_JUGENDJAHRE']\n",
    "    df_new['movement'] = df_new['PRAEGENDE_JUGENDJAHRE']\n",
    "    dec_dict = {1:1 ,2:1 ,3:2,4:2,5:3,6:3,7:3,8:4,9:4,10:5,11:5,12:5,13:5,14:6,15:6}\n",
    "    move_dict = {1:1,2:0,3:1,4:0,5:1,6:0,7:0,8:1,9:0,10:1,11:0,12:1,13:0,14:1,15:0}\n",
    "    # remove original variable from dataset\n",
    "    df_new['decade'].replace(dec_dict,inplace=True)\n",
    "    df_new['movement'].replace(move_dict,inplace=True)\n",
    "    \n",
    "    df_new['wealth'] = df_new['CAMEO_INTL_2015']\n",
    "    df_new['life_stage'] = df_new['CAMEO_INTL_2015']\n",
    "    wealth_dict = {'11':1,'12':1,'13':1,'14':1,'15':1,'21':2,'22':2,'23':2,'24':2,'25':2,'31':3,'32':3,'33':3,'34':3,'35':3,\n",
    "              '41':4,'42':4,'43':4,'44':4,'45':4,'51':5,'52':5,'53':5,'54':5,'55':5}\n",
    "    life_stage_dict = {'11':1,'12':1,'13':1,'14':1,'15':1,'21':2,'22':2,'23':2,'24':2,'25':2,'31':3,'32':3,'33':3,'34':3,'35':3,\n",
    "              '41':4,'42':4,'43':4,'44':4,'45':4,'51':5,'52':5,'53':5,'54':5,'55':5}\n",
    "    ### remove original variable from data\n",
    "    df_new['wealth'].replace(wealth_dict,inplace=True)\n",
    "    df_new['life_stage'].replace(life_stage_dict,inplace=True)\n",
    "    \n",
    "    ## remove mixed vars\n",
    "    mixed_vars = feat_info_new[feat_info_new[\"type\"]==\"mixed\"][\"attribute\"]\n",
    "    #print(mixed_vars)\n",
    "    for i in mixed_vars:\n",
    "        df_new.drop(i, axis=1, inplace=True)\n",
    "    \n",
    "    # Return the cleaned dataframe.\n",
    "    return df_new\n",
    "    "
   ]
  },
  {
   "cell_type": "markdown",
   "metadata": {},
   "source": [
    "## Step 2: Feature Transformation\n",
    "\n",
    "### Step 2.1: Apply Feature Scaling\n",
    "\n",
    "Before we apply dimensionality reduction techniques to the data, we need to perform feature scaling so that the principal component vectors are not influenced by the natural differences in scale for features. Starting from this part of the project, you'll want to keep an eye on the [API reference page for sklearn](http://scikit-learn.org/stable/modules/classes.html) to help you navigate to all of the classes and functions that you'll need. In this substep, you'll need to check the following:\n",
    "\n",
    "- sklearn requires that data not have missing values in order for its estimators to work properly. So, before applying the scaler to your data, make sure that you've cleaned the DataFrame of the remaining missing values. This can be as simple as just removing all data points with missing data, or applying an [Imputer](http://scikit-learn.org/stable/modules/generated/sklearn.preprocessing.Imputer.html) to replace all missing values. You might also try a more complicated procedure where you temporarily remove missing values in order to compute the scaling parameters before re-introducing those missing values and applying imputation. Think about how much missing data you have and what possible effects each approach might have on your analysis, and justify your decision in the discussion section below.\n",
    "- For the actual scaling function, a [StandardScaler](http://scikit-learn.org/stable/modules/generated/sklearn.preprocessing.StandardScaler.html) instance is suggested, scaling each feature to mean 0 and standard deviation 1.\n",
    "- For these classes, you can make use of the `.fit_transform()` method to both fit a procedure to the data as well as apply the transformation to the data at the same time. Don't forget to keep the fit sklearn objects handy, since you'll be applying them to the customer demographics data towards the end of the project."
   ]
  },
  {
   "cell_type": "code",
   "execution_count": 43,
   "metadata": {},
   "outputs": [
    {
     "name": "stdout",
     "output_type": "stream",
     "text": [
      "number of Na's:61291\n",
      "number of Na's:128631\n"
     ]
    }
   ],
   "source": [
    "# If you've not yet cleaned the dataset of all NaN values, then investigate and\n",
    "# do that now.\n",
    "print(f\"number of Na's:{ (azdias_new.isnull().sum(axis=1) > 0).sum()}\")\n",
    "print(f\"number of Na's:{ azdias_new.isnull().sum().sum()}\")"
   ]
  },
  {
   "cell_type": "code",
   "execution_count": 44,
   "metadata": {},
   "outputs": [],
   "source": [
    "# Apply 'Imputer' to replace missing values with mean\n",
    "imputer = Imputer()\n",
    "azdias_new_impute = imputer.fit_transform(azdias_new)"
   ]
  },
  {
   "cell_type": "code",
   "execution_count": 45,
   "metadata": {},
   "outputs": [],
   "source": [
    "# Apply feature scaling to the general population demographics data.\n",
    "scaler = StandardScaler()\n",
    "azdias_scaled = scaler.fit_transform (azdias_new_impute)"
   ]
  },
  {
   "cell_type": "markdown",
   "metadata": {},
   "source": [
    "### Discussion 2.1: Apply Feature Scaling\n",
    "\n",
    "I applied all the feature engineeing on the data with few missing values. But, there are still some missing values in the data set, around 128631, and I have to take care of that before going further doing Principal Component Analysis and customer clustering. Instead of removing the rows with missing values, the mean of non missing in each column is imputed for missing values. \n",
    "To apply PCA the data has to be scaled around 0 mean and 1 standard deviation.  "
   ]
  },
  {
   "cell_type": "markdown",
   "metadata": {},
   "source": [
    "### Step 2.2: Perform Dimensionality Reduction\n",
    "\n",
    "On your scaled data, you are now ready to apply dimensionality reduction techniques.\n",
    "\n",
    "- Use sklearn's [PCA](http://scikit-learn.org/stable/modules/generated/sklearn.decomposition.PCA.html) class to apply principal component analysis on the data, thus finding the vectors of maximal variance in the data. To start, you should not set any parameters (so all components are computed) or set a number of components that is at least half the number of features (so there's enough features to see the general trend in variability).\n",
    "- Check out the ratio of variance explained by each principal component as well as the cumulative variance explained. Try plotting the cumulative or sequential values using matplotlib's [`plot()`](https://matplotlib.org/api/_as_gen/matplotlib.pyplot.plot.html) function. Based on what you find, select a value for the number of transformed features you'll retain for the clustering part of the project.\n",
    "- Once you've made a choice for the number of components to keep, make sure you re-fit a PCA instance to perform the decided-on transformation."
   ]
  },
  {
   "cell_type": "code",
   "execution_count": 46,
   "metadata": {},
   "outputs": [],
   "source": [
    "# Apply PCA to the data.\n",
    "# total_components is considered as all the features \n",
    "\n",
    "pca = PCA()\n",
    "azdias_pca = pca.fit_transform(azdias_scaled)"
   ]
  },
  {
   "cell_type": "code",
   "execution_count": 47,
   "metadata": {},
   "outputs": [
    {
     "data": {
      "text/plain": [
       "array([  1.76556244e-01,   1.39662548e-01,   9.57628683e-02,\n",
       "         5.40851207e-02,   3.79285694e-02,   3.18813204e-02,\n",
       "         2.81445840e-02,   2.47509113e-02,   2.33943099e-02,\n",
       "         2.14571986e-02,   2.05939003e-02,   1.92140932e-02,\n",
       "         1.77299961e-02,   1.74496405e-02,   1.60487480e-02,\n",
       "         1.56204105e-02,   1.48505625e-02,   1.42966621e-02,\n",
       "         1.30243099e-02,   1.27282299e-02,   1.22142914e-02,\n",
       "         1.20830455e-02,   1.12343427e-02,   1.08949926e-02,\n",
       "         1.04875998e-02,   8.53940095e-03,   7.84407586e-03,\n",
       "         7.44325539e-03,   7.32095472e-03,   7.18197631e-03,\n",
       "         6.58440731e-03,   6.52774800e-03,   6.26775216e-03,\n",
       "         6.18313410e-03,   5.90766914e-03,   5.51990651e-03,\n",
       "         4.89390528e-03,   4.68610370e-03,   4.42460341e-03,\n",
       "         4.30606323e-03,   3.94019961e-03,   3.81102637e-03,\n",
       "         3.69427496e-03,   3.35480529e-03,   3.21556802e-03,\n",
       "         3.17956929e-03,   3.13603887e-03,   2.90410787e-03,\n",
       "         2.69994580e-03,   2.63564249e-03,   2.53014822e-03,\n",
       "         2.42413432e-03,   2.32977692e-03,   2.19658463e-03,\n",
       "         2.15488850e-03,   1.93714710e-03,   1.74525942e-03,\n",
       "         1.66262554e-03,   1.50011595e-03,   1.31227039e-03,\n",
       "         1.24220371e-03,   6.47934099e-04,   2.02768660e-05,\n",
       "         3.06921894e-33])"
      ]
     },
     "execution_count": 47,
     "metadata": {},
     "output_type": "execute_result"
    }
   ],
   "source": [
    "pca.explained_variance_ratio_"
   ]
  },
  {
   "cell_type": "code",
   "execution_count": 48,
   "metadata": {},
   "outputs": [
    {
     "data": {
      "image/png": "[encoded data removed]",
      "text/plain": [
       "<matplotlib.figure.Figure at 0x7f1e03cc56d8>"
      ]
     },
     "metadata": {
      "needs_background": "light"
     },
     "output_type": "display_data"
    }
   ],
   "source": [
    "# Investigate the variance accounted for by each principal component.\n",
    "X = np.arange(azdias_scaled.shape[1])\n",
    "Y =pca.explained_variance_ratio_\n",
    "plt.figure(figsize=(10,6))\n",
    "ax = plt.subplot()\n",
    "cumvals = np.cumsum(Y)\n",
    "ax.bar(X,Y)\n",
    "ax.plot(X,cumvals)\n",
    "for i in range(azdias_scaled.shape[1]):\n",
    "    ax.xaxis.set_tick_params(width=0)\n",
    "    ax.yaxis.set_tick_params(width=0 , length =10)\n",
    "    plt.title(\"Variance explained by Principal Components\")\n",
    "    ax.set_xlabel(\"Number Of Components\")\n"
   ]
  },
  {
   "cell_type": "code",
   "execution_count": 49,
   "metadata": {},
   "outputs": [],
   "source": [
    "### consider half of the variables\n",
    "total_components = int(azdias_scaled.shape[1] /2)"
   ]
  },
  {
   "cell_type": "code",
   "execution_count": 50,
   "metadata": {},
   "outputs": [],
   "source": [
    "# Re-apply PCA to the data while selecting for number of components to retain.\n",
    "pca_final = PCA(total_components)\n",
    "azdias_pca_final = pca_final.fit_transform(azdias_scaled)"
   ]
  },
  {
   "cell_type": "code",
   "execution_count": 51,
   "metadata": {},
   "outputs": [
    {
     "data": {
      "text/plain": [
       "0.90347169620282353"
      ]
     },
     "execution_count": 51,
     "metadata": {},
     "output_type": "execute_result"
    }
   ],
   "source": [
    "sum(pca_final.explained_variance_ratio_)"
   ]
  },
  {
   "cell_type": "markdown",
   "metadata": {},
   "source": [
    "### Discussion 2.2: Perform Dimensionality Reduction\n",
    "\n",
    "At the beginning I considered all the features, around 60, as the components. But, after reviwing the variances explained by PCA's I noticed 95% of variances can be explained by half of features in the original data while having less features. So, I applied PCA once more with 32 comonents."
   ]
  },
  {
   "cell_type": "markdown",
   "metadata": {},
   "source": [
    "### Step 2.3: Interpret Principal Components\n",
    "\n",
    "Now that we have our transformed principal components, it's a nice idea to check out the weight of each variable on the first few components to see if they can be interpreted in some fashion.\n",
    "\n",
    "As a reminder, each principal component is a unit vector that points in the direction of highest variance (after accounting for the variance captured by earlier principal components). The further a weight is from zero, the more the principal component is in the direction of the corresponding feature. If two features have large weights of the same sign (both positive or both negative), then increases in one tend expect to be associated with increases in the other. To contrast, features with different signs can be expected to show a negative correlation: increases in one variable should result in a decrease in the other.\n",
    "\n",
    "- To investigate the features, you should map each weight to their corresponding feature name, then sort the features according to weight. The most interesting features for each principal component, then, will be those at the beginning and end of the sorted list. Use the data dictionary document to help you understand these most prominent features, their relationships, and what a positive or negative value on the principal component might indicate.\n",
    "- You should investigate and interpret feature associations from the first three principal components in this substep. To help facilitate this, you should write a function that you can call at any time to print the sorted list of feature weights, for the *i*-th principal component. This might come in handy in the next step of the project, when you interpret the tendencies of the discovered clusters."
   ]
  },
  {
   "cell_type": "code",
   "execution_count": 52,
   "metadata": {},
   "outputs": [],
   "source": [
    "# Map weights for the first principal component to corresponding feature names\n",
    "# and then print the linked values, sorted by weight.\n",
    "# HINT: Try defining a function here or in a new cell that you can reuse in the\n",
    "# other cells.\n",
    "def Interpret_PCA (data , pca):\n",
    "    dimensions =['Dimension {}'.format(i) for i in range (1,len(pca.components_)+1)]\n",
    "    \n",
    "    ## number of pcas\n",
    "    pca_comp = pca.components_\n",
    "    components = pd.DataFrame(np.round(pca_comp , 4) , columns = data.columns)\n",
    "    components.index = dimensions\n",
    "    \n",
    "    return(components)\n"
   ]
  },
  {
   "cell_type": "code",
   "execution_count": 53,
   "metadata": {},
   "outputs": [
    {
     "data": {
      "text/html": [
       "<div>\n",
       "<style scoped>\n",
       "    .dataframe tbody tr th:only-of-type {\n",
       "        vertical-align: middle;\n",
       "    }\n",
       "\n",
       "    .dataframe tbody tr th {\n",
       "        vertical-align: top;\n",
       "    }\n",
       "\n",
       "    .dataframe thead th {\n",
       "        text-align: right;\n",
       "    }\n",
       "</style>\n",
       "<table border=\"1\" class=\"dataframe\">\n",
       "  <thead>\n",
       "    <tr style=\"text-align: right;\">\n",
       "      <th></th>\n",
       "      <th>ALTERSKATEGORIE_GROB</th>\n",
       "      <th>ANREDE_KZ</th>\n",
       "      <th>FINANZ_MINIMALIST</th>\n",
       "      <th>FINANZ_SPARER</th>\n",
       "      <th>FINANZ_VORSORGER</th>\n",
       "      <th>FINANZ_ANLEGER</th>\n",
       "      <th>FINANZ_UNAUFFAELLIGER</th>\n",
       "      <th>FINANZ_HAUSBAUER</th>\n",
       "      <th>GREEN_AVANTGARDE</th>\n",
       "      <th>HEALTH_TYP</th>\n",
       "      <th>...</th>\n",
       "      <th>PLZ8_HHZ</th>\n",
       "      <th>PLZ8_GBZ</th>\n",
       "      <th>ARBEIT</th>\n",
       "      <th>ORTSGR_KLS9</th>\n",
       "      <th>RELAT_AB</th>\n",
       "      <th>OST_WEST_KZ_1</th>\n",
       "      <th>decade</th>\n",
       "      <th>movement</th>\n",
       "      <th>wealth</th>\n",
       "      <th>life_stage</th>\n",
       "    </tr>\n",
       "  </thead>\n",
       "  <tbody>\n",
       "    <tr>\n",
       "      <th>Dimension 1</th>\n",
       "      <td>-0.1160</td>\n",
       "      <td>0.0024</td>\n",
       "      <td>-0.2130</td>\n",
       "      <td>0.1369</td>\n",
       "      <td>-0.1074</td>\n",
       "      <td>0.0599</td>\n",
       "      <td>0.0682</td>\n",
       "      <td>0.1586</td>\n",
       "      <td>-0.1129</td>\n",
       "      <td>0.0265</td>\n",
       "      <td>...</td>\n",
       "      <td>0.0397</td>\n",
       "      <td>-0.1659</td>\n",
       "      <td>0.1433</td>\n",
       "      <td>0.1913</td>\n",
       "      <td>0.1323</td>\n",
       "      <td>0.0584</td>\n",
       "      <td>0.0970</td>\n",
       "      <td>0.1126</td>\n",
       "      <td>0.2121</td>\n",
       "      <td>0.2121</td>\n",
       "    </tr>\n",
       "    <tr>\n",
       "      <th>Dimension 2</th>\n",
       "      <td>0.2628</td>\n",
       "      <td>0.0873</td>\n",
       "      <td>0.0709</td>\n",
       "      <td>-0.2384</td>\n",
       "      <td>0.2313</td>\n",
       "      <td>-0.2057</td>\n",
       "      <td>-0.2272</td>\n",
       "      <td>0.1115</td>\n",
       "      <td>-0.0154</td>\n",
       "      <td>-0.0572</td>\n",
       "      <td>...</td>\n",
       "      <td>0.0117</td>\n",
       "      <td>-0.0668</td>\n",
       "      <td>0.0624</td>\n",
       "      <td>0.0821</td>\n",
       "      <td>0.0596</td>\n",
       "      <td>0.0255</td>\n",
       "      <td>-0.2494</td>\n",
       "      <td>0.0131</td>\n",
       "      <td>0.0721</td>\n",
       "      <td>0.0721</td>\n",
       "    </tr>\n",
       "    <tr>\n",
       "      <th>Dimension 3</th>\n",
       "      <td>0.0827</td>\n",
       "      <td>-0.3691</td>\n",
       "      <td>0.1591</td>\n",
       "      <td>-0.1023</td>\n",
       "      <td>0.0990</td>\n",
       "      <td>-0.1873</td>\n",
       "      <td>-0.0930</td>\n",
       "      <td>-0.0482</td>\n",
       "      <td>0.0498</td>\n",
       "      <td>-0.0137</td>\n",
       "      <td>...</td>\n",
       "      <td>0.0050</td>\n",
       "      <td>-0.0338</td>\n",
       "      <td>0.0298</td>\n",
       "      <td>0.0426</td>\n",
       "      <td>0.0283</td>\n",
       "      <td>0.0109</td>\n",
       "      <td>-0.1079</td>\n",
       "      <td>-0.0503</td>\n",
       "      <td>0.0241</td>\n",
       "      <td>0.0241</td>\n",
       "    </tr>\n",
       "    <tr>\n",
       "      <th>Dimension 4</th>\n",
       "      <td>-0.0401</td>\n",
       "      <td>0.0377</td>\n",
       "      <td>0.0548</td>\n",
       "      <td>-0.0006</td>\n",
       "      <td>-0.0156</td>\n",
       "      <td>-0.1294</td>\n",
       "      <td>0.0879</td>\n",
       "      <td>-0.0965</td>\n",
       "      <td>0.3866</td>\n",
       "      <td>0.0042</td>\n",
       "      <td>...</td>\n",
       "      <td>0.1404</td>\n",
       "      <td>0.0266</td>\n",
       "      <td>0.0490</td>\n",
       "      <td>0.2565</td>\n",
       "      <td>0.0944</td>\n",
       "      <td>-0.1125</td>\n",
       "      <td>0.0368</td>\n",
       "      <td>-0.3860</td>\n",
       "      <td>-0.1329</td>\n",
       "      <td>-0.1329</td>\n",
       "    </tr>\n",
       "    <tr>\n",
       "      <th>Dimension 5</th>\n",
       "      <td>0.0020</td>\n",
       "      <td>0.0071</td>\n",
       "      <td>0.0865</td>\n",
       "      <td>-0.0036</td>\n",
       "      <td>-0.0599</td>\n",
       "      <td>0.0424</td>\n",
       "      <td>-0.0473</td>\n",
       "      <td>-0.0869</td>\n",
       "      <td>0.0618</td>\n",
       "      <td>0.0146</td>\n",
       "      <td>...</td>\n",
       "      <td>-0.4902</td>\n",
       "      <td>-0.4042</td>\n",
       "      <td>0.2167</td>\n",
       "      <td>0.0954</td>\n",
       "      <td>0.1481</td>\n",
       "      <td>0.2107</td>\n",
       "      <td>0.0257</td>\n",
       "      <td>-0.0604</td>\n",
       "      <td>-0.0097</td>\n",
       "      <td>-0.0097</td>\n",
       "    </tr>\n",
       "  </tbody>\n",
       "</table>\n",
       "<p>5 rows × 64 columns</p>\n",
       "</div>"
      ],
      "text/plain": [
       "             ALTERSKATEGORIE_GROB  ANREDE_KZ  FINANZ_MINIMALIST  \\\n",
       "Dimension 1               -0.1160     0.0024            -0.2130   \n",
       "Dimension 2                0.2628     0.0873             0.0709   \n",
       "Dimension 3                0.0827    -0.3691             0.1591   \n",
       "Dimension 4               -0.0401     0.0377             0.0548   \n",
       "Dimension 5                0.0020     0.0071             0.0865   \n",
       "\n",
       "             FINANZ_SPARER  FINANZ_VORSORGER  FINANZ_ANLEGER  \\\n",
       "Dimension 1         0.1369           -0.1074          0.0599   \n",
       "Dimension 2        -0.2384            0.2313         -0.2057   \n",
       "Dimension 3        -0.1023            0.0990         -0.1873   \n",
       "Dimension 4        -0.0006           -0.0156         -0.1294   \n",
       "Dimension 5        -0.0036           -0.0599          0.0424   \n",
       "\n",
       "             FINANZ_UNAUFFAELLIGER  FINANZ_HAUSBAUER  GREEN_AVANTGARDE  \\\n",
       "Dimension 1                 0.0682            0.1586           -0.1129   \n",
       "Dimension 2                -0.2272            0.1115           -0.0154   \n",
       "Dimension 3                -0.0930           -0.0482            0.0498   \n",
       "Dimension 4                 0.0879           -0.0965            0.3866   \n",
       "Dimension 5                -0.0473           -0.0869            0.0618   \n",
       "\n",
       "             HEALTH_TYP     ...      PLZ8_HHZ  PLZ8_GBZ  ARBEIT  ORTSGR_KLS9  \\\n",
       "Dimension 1      0.0265     ...        0.0397   -0.1659  0.1433       0.1913   \n",
       "Dimension 2     -0.0572     ...        0.0117   -0.0668  0.0624       0.0821   \n",
       "Dimension 3     -0.0137     ...        0.0050   -0.0338  0.0298       0.0426   \n",
       "Dimension 4      0.0042     ...        0.1404    0.0266  0.0490       0.2565   \n",
       "Dimension 5      0.0146     ...       -0.4902   -0.4042  0.2167       0.0954   \n",
       "\n",
       "             RELAT_AB  OST_WEST_KZ_1  decade  movement  wealth  life_stage  \n",
       "Dimension 1    0.1323         0.0584  0.0970    0.1126  0.2121      0.2121  \n",
       "Dimension 2    0.0596         0.0255 -0.2494    0.0131  0.0721      0.0721  \n",
       "Dimension 3    0.0283         0.0109 -0.1079   -0.0503  0.0241      0.0241  \n",
       "Dimension 4    0.0944        -0.1125  0.0368   -0.3860 -0.1329     -0.1329  \n",
       "Dimension 5    0.1481         0.2107  0.0257   -0.0604 -0.0097     -0.0097  \n",
       "\n",
       "[5 rows x 64 columns]"
      ]
     },
     "execution_count": 53,
     "metadata": {},
     "output_type": "execute_result"
    }
   ],
   "source": [
    "component_dataframe = Interpret_PCA (azdias_new , pca_final)\n",
    "component_dataframe.head()"
   ]
  },
  {
   "cell_type": "code",
   "execution_count": 54,
   "metadata": {},
   "outputs": [
    {
     "data": {
      "text/plain": [
       "PLZ8_ANTG3               0.2229\n",
       "PLZ8_ANTG4               0.2155\n",
       "life_stage               0.2121\n",
       "wealth                   0.2121\n",
       "HH_EINKOMMEN_SCORE       0.2036\n",
       "ORTSGR_KLS9              0.1913\n",
       "EWDICHTE                 0.1891\n",
       "FINANZ_HAUSBAUER         0.1586\n",
       "KBA05_ANTG4              0.1519\n",
       "PLZ8_ANTG2               0.1510\n",
       "ARBEIT                   0.1433\n",
       "FINANZ_SPARER            0.1369\n",
       "KBA05_ANTG3              0.1368\n",
       "ANZ_HAUSHALTE_AKTIV      0.1359\n",
       "RELAT_AB                 0.1323\n",
       "movement                 0.1126\n",
       "SEMIO_PFLICHT            0.1053\n",
       "SEMIO_REL                0.1020\n",
       "decade                   0.0970\n",
       "SEMIO_TRADV              0.0885\n",
       "SEMIO_RAT                0.0880\n",
       "SEMIO_MAT                0.0785\n",
       "SEMIO_FAM                0.0747\n",
       "REGIOTYP                 0.0731\n",
       "SEMIO_KULT               0.0689\n",
       "FINANZ_UNAUFFAELLIGER    0.0682\n",
       "FINANZ_ANLEGER           0.0599\n",
       "OST_WEST_KZ_1            0.0584\n",
       "KKK                      0.0463\n",
       "SEMIO_SOZ                0.0434\n",
       "                          ...  \n",
       "HEALTH_TYP               0.0265\n",
       "VERS_TYP                 0.0229\n",
       "SEMIO_DOM                0.0188\n",
       "KBA05_ANTG2              0.0111\n",
       "SEMIO_KRIT               0.0042\n",
       "ANREDE_KZ                0.0024\n",
       "SOHO_KZ                 -0.0020\n",
       "ANZ_TITEL               -0.0050\n",
       "RETOURTYP_BK_S          -0.0187\n",
       "SEMIO_VERT              -0.0309\n",
       "ONLINE_AFFINITAET       -0.0440\n",
       "MIN_GEBAEUDEJAHR        -0.0538\n",
       "WOHNDAUER_2008          -0.0624\n",
       "KBA13_ANZAHL_PKW        -0.0776\n",
       "SEMIO_ERL               -0.0798\n",
       "SEMIO_LUST              -0.0811\n",
       "ANZ_PERSONEN            -0.0827\n",
       "FINANZ_VORSORGER        -0.1074\n",
       "GEBAEUDETYP_RASTER      -0.1125\n",
       "GREEN_AVANTGARDE        -0.1129\n",
       "ALTERSKATEGORIE_GROB    -0.1160\n",
       "BALLRAUM                -0.1214\n",
       "INNENSTADT              -0.1589\n",
       "KONSUMNAEHE             -0.1631\n",
       "PLZ8_GBZ                -0.1659\n",
       "FINANZ_MINIMALIST       -0.2130\n",
       "KBA05_GBZ               -0.2164\n",
       "PLZ8_ANTG1              -0.2236\n",
       "KBA05_ANTG1             -0.2250\n",
       "MOBI_REGIO              -0.2413\n",
       "Name: Dimension 1, Length: 64, dtype: float64"
      ]
     },
     "execution_count": 54,
     "metadata": {},
     "output_type": "execute_result"
    }
   ],
   "source": [
    "# Map weights for the first principal component to corresponding feature names\n",
    "# and then print the linked values, sorted by weight.\n",
    "component_dataframe.iloc[0].sort_values(ascending=False)\n"
   ]
  },
  {
   "cell_type": "code",
   "execution_count": 55,
   "metadata": {},
   "outputs": [
    {
     "data": {
      "text/plain": [
       "ALTERSKATEGORIE_GROB     0.2628\n",
       "SEMIO_ERL                0.2334\n",
       "FINANZ_VORSORGER         0.2313\n",
       "SEMIO_LUST               0.1842\n",
       "RETOURTYP_BK_S           0.1645\n",
       "SEMIO_KRIT               0.1179\n",
       "W_KEIT_KIND_HH           0.1172\n",
       "FINANZ_HAUSBAUER         0.1115\n",
       "SEMIO_KAEM               0.1072\n",
       "ANREDE_KZ                0.0873\n",
       "PLZ8_ANTG3               0.0868\n",
       "EWDICHTE                 0.0834\n",
       "PLZ8_ANTG4               0.0827\n",
       "ORTSGR_KLS9              0.0821\n",
       "wealth                   0.0721\n",
       "life_stage               0.0721\n",
       "FINANZ_MINIMALIST        0.0709\n",
       "KBA05_ANTG4              0.0652\n",
       "SEMIO_DOM                0.0637\n",
       "ARBEIT                   0.0624\n",
       "WOHNDAUER_2008           0.0602\n",
       "RELAT_AB                 0.0596\n",
       "PLZ8_ANTG2               0.0592\n",
       "ANZ_HAUSHALTE_AKTIV      0.0571\n",
       "HH_EINKOMMEN_SCORE       0.0489\n",
       "KBA05_ANTG3              0.0424\n",
       "VERS_TYP                 0.0294\n",
       "ANZ_HH_TITEL             0.0287\n",
       "OST_WEST_KZ_1            0.0255\n",
       "REGIOTYP                 0.0213\n",
       "                          ...  \n",
       "SOHO_KZ                 -0.0021\n",
       "KBA05_ANTG2             -0.0077\n",
       "GREEN_AVANTGARDE        -0.0154\n",
       "KBA13_ANZAHL_PKW        -0.0328\n",
       "GEBAEUDETYP_RASTER      -0.0382\n",
       "MIN_GEBAEUDEJAHR        -0.0388\n",
       "BALLRAUM                -0.0540\n",
       "HEALTH_TYP              -0.0572\n",
       "ANZ_PERSONEN            -0.0593\n",
       "KONSUMNAEHE             -0.0624\n",
       "SEMIO_VERT              -0.0668\n",
       "PLZ8_GBZ                -0.0668\n",
       "INNENSTADT              -0.0673\n",
       "KBA05_ANTG1             -0.0756\n",
       "KBA05_GBZ               -0.0842\n",
       "MOBI_REGIO              -0.0847\n",
       "PLZ8_ANTG1              -0.0850\n",
       "SEMIO_SOZ               -0.1041\n",
       "SEMIO_MAT               -0.1595\n",
       "ONLINE_AFFINITAET       -0.1613\n",
       "SEMIO_RAT               -0.1754\n",
       "SEMIO_FAM               -0.1807\n",
       "FINANZ_ANLEGER          -0.2057\n",
       "SEMIO_KULT              -0.2199\n",
       "FINANZ_UNAUFFAELLIGER   -0.2272\n",
       "SEMIO_TRADV             -0.2327\n",
       "SEMIO_PFLICHT           -0.2363\n",
       "FINANZ_SPARER           -0.2384\n",
       "decade                  -0.2494\n",
       "SEMIO_REL               -0.2649\n",
       "Name: Dimension 2, Length: 64, dtype: float64"
      ]
     },
     "execution_count": 55,
     "metadata": {},
     "output_type": "execute_result"
    }
   ],
   "source": [
    "# Map weights for the second principal component to corresponding feature names\n",
    "# and then print the linked values, sorted by weight.\n",
    "component_dataframe.iloc[1].sort_values(ascending=False)\n"
   ]
  },
  {
   "cell_type": "code",
   "execution_count": 56,
   "metadata": {},
   "outputs": [
    {
     "data": {
      "text/plain": [
       "SEMIO_VERT               0.3486\n",
       "SEMIO_SOZ                0.2638\n",
       "SEMIO_FAM                0.2518\n",
       "SEMIO_KULT               0.2338\n",
       "FINANZ_MINIMALIST        0.1591\n",
       "RETOURTYP_BK_S           0.1149\n",
       "FINANZ_VORSORGER         0.0990\n",
       "W_KEIT_KIND_HH           0.0918\n",
       "ALTERSKATEGORIE_GROB     0.0827\n",
       "SEMIO_REL                0.0808\n",
       "SEMIO_LUST               0.0739\n",
       "SEMIO_MAT                0.0528\n",
       "GREEN_AVANTGARDE         0.0498\n",
       "EWDICHTE                 0.0428\n",
       "ORTSGR_KLS9              0.0426\n",
       "PLZ8_ANTG4               0.0411\n",
       "PLZ8_ANTG3               0.0406\n",
       "WOHNDAUER_2008           0.0356\n",
       "ARBEIT                   0.0298\n",
       "RELAT_AB                 0.0283\n",
       "PLZ8_ANTG2               0.0275\n",
       "KBA05_ANTG4              0.0255\n",
       "life_stage               0.0241\n",
       "wealth                   0.0241\n",
       "ANZ_HAUSHALTE_AKTIV      0.0238\n",
       "VERS_TYP                 0.0211\n",
       "ANZ_HH_TITEL             0.0133\n",
       "OST_WEST_KZ_1            0.0109\n",
       "ANZ_TITEL                0.0103\n",
       "KBA05_ANTG3              0.0051\n",
       "                          ...  \n",
       "KBA05_ANTG2             -0.0106\n",
       "MIN_GEBAEUDEJAHR        -0.0131\n",
       "HEALTH_TYP              -0.0137\n",
       "KKK                     -0.0157\n",
       "KBA05_ANTG1             -0.0197\n",
       "KBA13_ANZAHL_PKW        -0.0200\n",
       "KBA05_GBZ               -0.0236\n",
       "HH_EINKOMMEN_SCORE      -0.0247\n",
       "MOBI_REGIO              -0.0263\n",
       "GEBAEUDETYP_RASTER      -0.0281\n",
       "BALLRAUM                -0.0323\n",
       "PLZ8_GBZ                -0.0338\n",
       "KONSUMNAEHE             -0.0353\n",
       "INNENSTADT              -0.0394\n",
       "PLZ8_ANTG1              -0.0412\n",
       "FINANZ_HAUSBAUER        -0.0482\n",
       "movement                -0.0503\n",
       "ONLINE_AFFINITAET       -0.0550\n",
       "SEMIO_PFLICHT           -0.0758\n",
       "SEMIO_TRADV             -0.0872\n",
       "FINANZ_UNAUFFAELLIGER   -0.0930\n",
       "FINANZ_SPARER           -0.1023\n",
       "decade                  -0.1079\n",
       "SEMIO_ERL               -0.1712\n",
       "FINANZ_ANLEGER          -0.1873\n",
       "SEMIO_RAT               -0.2161\n",
       "SEMIO_KRIT              -0.2698\n",
       "SEMIO_DOM               -0.3137\n",
       "SEMIO_KAEM              -0.3385\n",
       "ANREDE_KZ               -0.3691\n",
       "Name: Dimension 3, Length: 64, dtype: float64"
      ]
     },
     "execution_count": 56,
     "metadata": {},
     "output_type": "execute_result"
    }
   ],
   "source": [
    "# Map weights for the third principal component to corresponding feature names\n",
    "# and then print the linked values, sorted by weight.\n",
    "component_dataframe.iloc[2].sort_values(ascending=False)\n"
   ]
  },
  {
   "cell_type": "markdown",
   "metadata": {},
   "source": [
    "### Discussion 2.3: Interpret Principal Components\n",
    "\n",
    "The first pca is positively correlated with 'PLZ8_ANTG3', number of 6-10 family houses in PLZ8,  'life stage' and 'wealth'. But negatively correlated with the moving pattern by 0.2413 and number of 1-2 family houses in microcell, KBA05_ANTG1.\n",
    "\n",
    "The second pca represent that this dimension is going to incease by 0.2628 and 0.2334 with one unit incease in ALTERSKATEGORIE_GROB and SEMIO_ERL respectively. ALTERSKATEGORIE_GROB is the estimated age and SEMIO_ERL represents the range of event orriented affinity. Also, this dimension is going to decrease by 0.2649 and 0.2494 with one unit increase in religious, SEMIO_REL, and generation by decade repectively. One unit increase depend on the way SEMIO_REL is topcoded. \n",
    "\n",
    "The third component is highly correlated with SEMIO_VERT, dreamful range, positively and ANREDE_KZ, gender, negatively. \n",
    "\n",
    "In total, the increase in number of 6-10 family houses in PLZ8 will cause decrease in moving. Also men who dreams less will cause third component to decrease. "
   ]
  },
  {
   "cell_type": "markdown",
   "metadata": {},
   "source": [
    "## Step 3: Clustering\n",
    "\n",
    "### Step 3.1: Apply Clustering to General Population\n",
    "\n",
    "You've assessed and cleaned the demographics data, then scaled and transformed them. Now, it's time to see how the data clusters in the principal components space. In this substep, you will apply k-means clustering to the dataset and use the average within-cluster distances from each point to their assigned cluster's centroid to decide on a number of clusters to keep.\n",
    "\n",
    "- Use sklearn's [KMeans](http://scikit-learn.org/stable/modules/generated/sklearn.cluster.KMeans.html#sklearn.cluster.KMeans) class to perform k-means clustering on the PCA-transformed data.\n",
    "- Then, compute the average difference from each point to its assigned cluster's center. **Hint**: The KMeans object's `.score()` method might be useful here, but note that in sklearn, scores tend to be defined so that larger is better. Try applying it to a small, toy dataset, or use an internet search to help your understanding.\n",
    "- Perform the above two steps for a number of different cluster counts. You can then see how the average distance decreases with an increasing number of clusters. However, each additional cluster provides a smaller net benefit. Use this fact to select a final number of clusters in which to group the data. **Warning**: because of the large size of the dataset, it can take a long time for the algorithm to resolve. The more clusters to fit, the longer the algorithm will take. You should test for cluster counts through at least 10 clusters to get the full picture, but you shouldn't need to test for a number of clusters above about 30.\n",
    "- Once you've selected a final number of clusters to use, re-fit a KMeans instance to perform the clustering operation. Make sure that you also obtain the cluster assignments for the general demographics data, since you'll be using them in the final Step 3.3."
   ]
  },
  {
   "cell_type": "code",
   "execution_count": 57,
   "metadata": {},
   "outputs": [],
   "source": [
    "# Over a number of different cluster counts...\n",
    "sse = []\n",
    "centers = list(range(1,20))\n",
    "for i in centers:\n",
    "    # run k-means clustering on the data and...\n",
    "    kmeans = KMeans(n_clusters=i , random_state=123)\n",
    "    model = kmeans.fit(azdias_pca_final)\n",
    "    \n",
    "    # compute the average within-cluster distances.\n",
    "    score = np.abs(model.score(azdias_pca_final))\n",
    "    sse.append(score)\n",
    "    "
   ]
  },
  {
   "cell_type": "code",
   "execution_count": 156,
   "metadata": {},
   "outputs": [
    {
     "name": "stdout",
     "output_type": "stream",
     "text": [
      "[39579392.010885887, 33709667.981663913, 30655887.19147227, 28858723.574871287, 27590308.346269876, 26462946.589662343, 25449559.988847036, 24699035.983596668, 24179060.189784169, 23635364.742756102, 23302687.165501475, 22664351.539056048, 22395853.762604032, 22138728.596438974, 21860044.602480303, 21366198.625360679, 21410223.167952206, 21072641.82444134, 20716578.426330909]\n"
     ]
    }
   ],
   "source": [
    "print(sse)"
   ]
  },
  {
   "cell_type": "code",
   "execution_count": 58,
   "metadata": {},
   "outputs": [
    {
     "data": {
      "text/plain": [
       "([<matplotlib.axis.XTick at 0x7f1e03bc79e8>,\n",
       "  <matplotlib.axis.XTick at 0x7f1e03ba0240>,\n",
       "  <matplotlib.axis.XTick at 0x7f1e03b60908>,\n",
       "  <matplotlib.axis.XTick at 0x7f1e03b848d0>,\n",
       "  <matplotlib.axis.XTick at 0x7f1e03b84f28>,\n",
       "  <matplotlib.axis.XTick at 0x7f1e03b8a5f8>,\n",
       "  <matplotlib.axis.XTick at 0x7f1e03b8ac88>,\n",
       "  <matplotlib.axis.XTick at 0x7f1e03b0f358>,\n",
       "  <matplotlib.axis.XTick at 0x7f1e03b0f9e8>,\n",
       "  <matplotlib.axis.XTick at 0x7f1e03b150b8>,\n",
       "  <matplotlib.axis.XTick at 0x7f1e03b15748>,\n",
       "  <matplotlib.axis.XTick at 0x7f1e03b15dd8>,\n",
       "  <matplotlib.axis.XTick at 0x7f1e03b1b4a8>,\n",
       "  <matplotlib.axis.XTick at 0x7f1e03b1bb38>,\n",
       "  <matplotlib.axis.XTick at 0x7f1e03b24208>,\n",
       "  <matplotlib.axis.XTick at 0x7f1e03b24898>,\n",
       "  <matplotlib.axis.XTick at 0x7f1e03b24f28>,\n",
       "  <matplotlib.axis.XTick at 0x7f1e03b2a5f8>,\n",
       "  <matplotlib.axis.XTick at 0x7f1e03b2ac88>,\n",
       "  <matplotlib.axis.XTick at 0x7f1e03b2f358>],\n",
       " <a list of 20 Text xticklabel objects>)"
      ]
     },
     "execution_count": 58,
     "metadata": {},
     "output_type": "execute_result"
    },
    {
     "data": {
      "image/png": "[encoded data removed]",
      "text/plain": [
       "<matplotlib.figure.Figure at 0x7f1e03cba748>"
      ]
     },
     "metadata": {
      "needs_background": "light"
     },
     "output_type": "display_data"
    }
   ],
   "source": [
    "# Investigate the change in within-cluster distance across number of clusters.\n",
    "# HINT: Use matplotlib's plot function to visualize this relationship.\n",
    "plt.figure(figsize=(10,6))\n",
    "#ax = plt.subplot()\n",
    "plt.xticks(np.arange(1,21,step=1))\n",
    "plt.plot(centers,sse, linestyle='--', marker='o');\n",
    "plt.xlabel('clusters');\n",
    "plt.ylabel('SSE');\n",
    "plt.title('SSE for different clusters');\n",
    "plt.xticks(np.arange(1,21,step=1))\n",
    "\n"
   ]
  },
  {
   "cell_type": "code",
   "execution_count": 130,
   "metadata": {},
   "outputs": [],
   "source": [
    "# Re-fit the k-means model with the selected number of clusters and obtain\n",
    "# cluster predictions for the general population demographics data.\n",
    "kmeans = KMeans(n_clusters = 8 , random_state= 123)\n",
    "azdias_prediction = kmeans.fit_predict(azdias_pca_final)\n"
   ]
  },
  {
   "cell_type": "code",
   "execution_count": 131,
   "metadata": {},
   "outputs": [
    {
     "data": {
      "text/html": [
       "<div>\n",
       "<style scoped>\n",
       "    .dataframe tbody tr th:only-of-type {\n",
       "        vertical-align: middle;\n",
       "    }\n",
       "\n",
       "    .dataframe tbody tr th {\n",
       "        vertical-align: top;\n",
       "    }\n",
       "\n",
       "    .dataframe thead th {\n",
       "        text-align: right;\n",
       "    }\n",
       "</style>\n",
       "<table border=\"1\" class=\"dataframe\">\n",
       "  <thead>\n",
       "    <tr style=\"text-align: right;\">\n",
       "      <th></th>\n",
       "      <th>cluster</th>\n",
       "      <th>Dimension 1</th>\n",
       "      <th>Dimension 2</th>\n",
       "      <th>Dimension 3</th>\n",
       "      <th>Dimension 4</th>\n",
       "      <th>Dimension 5</th>\n",
       "      <th>Dimension 6</th>\n",
       "      <th>Dimension 7</th>\n",
       "      <th>Dimension 8</th>\n",
       "      <th>Dimension 9</th>\n",
       "      <th>...</th>\n",
       "      <th>Dimension 23</th>\n",
       "      <th>Dimension 24</th>\n",
       "      <th>Dimension 25</th>\n",
       "      <th>Dimension 26</th>\n",
       "      <th>Dimension 27</th>\n",
       "      <th>Dimension 28</th>\n",
       "      <th>Dimension 29</th>\n",
       "      <th>Dimension 30</th>\n",
       "      <th>Dimension 31</th>\n",
       "      <th>Dimension 32</th>\n",
       "    </tr>\n",
       "  </thead>\n",
       "  <tbody>\n",
       "    <tr>\n",
       "      <th>0</th>\n",
       "      <td>4</td>\n",
       "      <td>3.93602</td>\n",
       "      <td>-2.63969</td>\n",
       "      <td>-2.97455</td>\n",
       "      <td>-0.46337</td>\n",
       "      <td>-2.48319</td>\n",
       "      <td>2.24393</td>\n",
       "      <td>0.93330</td>\n",
       "      <td>1.27050</td>\n",
       "      <td>-0.93711</td>\n",
       "      <td>...</td>\n",
       "      <td>0.01260</td>\n",
       "      <td>-0.57753</td>\n",
       "      <td>-0.76369</td>\n",
       "      <td>0.35236</td>\n",
       "      <td>-0.22911</td>\n",
       "      <td>-0.64954</td>\n",
       "      <td>-0.59079</td>\n",
       "      <td>-0.56077</td>\n",
       "      <td>0.93443</td>\n",
       "      <td>-0.60605</td>\n",
       "    </tr>\n",
       "    <tr>\n",
       "      <th>1</th>\n",
       "      <td>3</td>\n",
       "      <td>-1.03291</td>\n",
       "      <td>0.13270</td>\n",
       "      <td>-3.11521</td>\n",
       "      <td>2.28812</td>\n",
       "      <td>-0.91963</td>\n",
       "      <td>-0.16237</td>\n",
       "      <td>-0.93960</td>\n",
       "      <td>0.26373</td>\n",
       "      <td>-1.44490</td>\n",
       "      <td>...</td>\n",
       "      <td>-0.84061</td>\n",
       "      <td>-1.29184</td>\n",
       "      <td>-0.18645</td>\n",
       "      <td>0.31478</td>\n",
       "      <td>-0.79059</td>\n",
       "      <td>1.29535</td>\n",
       "      <td>-0.29339</td>\n",
       "      <td>-0.08425</td>\n",
       "      <td>-0.58961</td>\n",
       "      <td>-0.35070</td>\n",
       "    </tr>\n",
       "    <tr>\n",
       "      <th>2</th>\n",
       "      <td>6</td>\n",
       "      <td>0.71789</td>\n",
       "      <td>0.22750</td>\n",
       "      <td>3.23827</td>\n",
       "      <td>0.47708</td>\n",
       "      <td>1.52499</td>\n",
       "      <td>-2.97088</td>\n",
       "      <td>1.99100</td>\n",
       "      <td>0.99724</td>\n",
       "      <td>-0.99105</td>\n",
       "      <td>...</td>\n",
       "      <td>-0.12605</td>\n",
       "      <td>-0.73374</td>\n",
       "      <td>0.18664</td>\n",
       "      <td>0.37869</td>\n",
       "      <td>-0.30222</td>\n",
       "      <td>-0.48303</td>\n",
       "      <td>-0.14014</td>\n",
       "      <td>1.24093</td>\n",
       "      <td>-0.07237</td>\n",
       "      <td>0.02940</td>\n",
       "    </tr>\n",
       "    <tr>\n",
       "      <th>3</th>\n",
       "      <td>7</td>\n",
       "      <td>-0.28890</td>\n",
       "      <td>-1.33499</td>\n",
       "      <td>-1.06208</td>\n",
       "      <td>-2.20180</td>\n",
       "      <td>-3.21489</td>\n",
       "      <td>-1.00500</td>\n",
       "      <td>-0.31262</td>\n",
       "      <td>-2.34951</td>\n",
       "      <td>1.61359</td>\n",
       "      <td>...</td>\n",
       "      <td>0.82153</td>\n",
       "      <td>-0.60734</td>\n",
       "      <td>-0.85829</td>\n",
       "      <td>0.13929</td>\n",
       "      <td>1.04651</td>\n",
       "      <td>0.89975</td>\n",
       "      <td>0.62592</td>\n",
       "      <td>0.81213</td>\n",
       "      <td>0.34357</td>\n",
       "      <td>-0.55806</td>\n",
       "    </tr>\n",
       "    <tr>\n",
       "      <th>4</th>\n",
       "      <td>7</td>\n",
       "      <td>0.03922</td>\n",
       "      <td>-3.24746</td>\n",
       "      <td>-3.63488</td>\n",
       "      <td>-0.25460</td>\n",
       "      <td>-1.46544</td>\n",
       "      <td>-1.19580</td>\n",
       "      <td>-0.37331</td>\n",
       "      <td>-1.33149</td>\n",
       "      <td>2.39748</td>\n",
       "      <td>...</td>\n",
       "      <td>-1.31422</td>\n",
       "      <td>0.74517</td>\n",
       "      <td>1.23352</td>\n",
       "      <td>0.79096</td>\n",
       "      <td>-0.01804</td>\n",
       "      <td>0.43268</td>\n",
       "      <td>0.07638</td>\n",
       "      <td>0.05784</td>\n",
       "      <td>-0.86943</td>\n",
       "      <td>-0.24402</td>\n",
       "    </tr>\n",
       "  </tbody>\n",
       "</table>\n",
       "<p>5 rows × 33 columns</p>\n",
       "</div>"
      ],
      "text/plain": [
       "   cluster  Dimension 1  Dimension 2  Dimension 3  Dimension 4  Dimension 5  \\\n",
       "0        4      3.93602     -2.63969     -2.97455     -0.46337     -2.48319   \n",
       "1        3     -1.03291      0.13270     -3.11521      2.28812     -0.91963   \n",
       "2        6      0.71789      0.22750      3.23827      0.47708      1.52499   \n",
       "3        7     -0.28890     -1.33499     -1.06208     -2.20180     -3.21489   \n",
       "4        7      0.03922     -3.24746     -3.63488     -0.25460     -1.46544   \n",
       "\n",
       "   Dimension 6  Dimension 7  Dimension 8  Dimension 9      ...       \\\n",
       "0      2.24393      0.93330      1.27050     -0.93711      ...        \n",
       "1     -0.16237     -0.93960      0.26373     -1.44490      ...        \n",
       "2     -2.97088      1.99100      0.99724     -0.99105      ...        \n",
       "3     -1.00500     -0.31262     -2.34951      1.61359      ...        \n",
       "4     -1.19580     -0.37331     -1.33149      2.39748      ...        \n",
       "\n",
       "   Dimension 23  Dimension 24  Dimension 25  Dimension 26  Dimension 27  \\\n",
       "0       0.01260      -0.57753      -0.76369       0.35236      -0.22911   \n",
       "1      -0.84061      -1.29184      -0.18645       0.31478      -0.79059   \n",
       "2      -0.12605      -0.73374       0.18664       0.37869      -0.30222   \n",
       "3       0.82153      -0.60734      -0.85829       0.13929       1.04651   \n",
       "4      -1.31422       0.74517       1.23352       0.79096      -0.01804   \n",
       "\n",
       "   Dimension 28  Dimension 29  Dimension 30  Dimension 31  Dimension 32  \n",
       "0      -0.64954      -0.59079      -0.56077       0.93443      -0.60605  \n",
       "1       1.29535      -0.29339      -0.08425      -0.58961      -0.35070  \n",
       "2      -0.48303      -0.14014       1.24093      -0.07237       0.02940  \n",
       "3       0.89975       0.62592       0.81213       0.34357      -0.55806  \n",
       "4       0.43268       0.07638       0.05784      -0.86943      -0.24402  \n",
       "\n",
       "[5 rows x 33 columns]"
      ]
     },
     "execution_count": 131,
     "metadata": {},
     "output_type": "execute_result"
    }
   ],
   "source": [
    "## cbind the cluster column to the pca data\n",
    "dimensions =['Dimension {}'.format(i) for i in range (1,len(pca_final.components_)+1)]\n",
    "cluster_dataframe = pd.DataFrame(np.round(azdias_pca_final,5), columns = dimensions)\n",
    "cluster_dataframe.insert(loc=0 , column='cluster', value=azdias_prediction)\n",
    "cluster_dataframe.head()\n"
   ]
  },
  {
   "cell_type": "markdown",
   "metadata": {},
   "source": [
    "### Discussion 3.1: Apply Clustering to General Population\n",
    "\n",
    "The sum of squared errors are captured for different range of clusters, and plotted to find the elbow. As the number of clusters increases the sse decreases. There is no visible elbow, but I decided to segment the customers within 10 clusters since the sse does not decrease from cluster 8 to 9. I also tried other clusters like 9, 10,11 and 12, but it caused one cluster to be overrepresented, close to 99%, and the rest underrepresented.  "
   ]
  },
  {
   "cell_type": "markdown",
   "metadata": {},
   "source": [
    "### Step 3.2: Apply All Steps to the Customer Data\n",
    "\n",
    "Now that you have clusters and cluster centers for the general population, it's time to see how the customer data maps on to those clusters. Take care to not confuse this for re-fitting all of the models to the customer data. Instead, you're going to use the fits from the general population to clean, transform, and cluster the customer data. In the last step of the project, you will interpret how the general population fits apply to the customer data.\n",
    "\n",
    "- Don't forget when loading in the customers data, that it is semicolon (`;`) delimited.\n",
    "- Apply the same feature wrangling, selection, and engineering steps to the customer demographics using the `clean_data()` function you created earlier. (You can assume that the customer demographics data has similar meaning behind missing data patterns as the general demographics data.)\n",
    "- Use the sklearn objects from the general demographics data, and apply their transformations to the customers data. That is, you should not be using a `.fit()` or `.fit_transform()` method to re-fit the old objects, nor should you be creating new sklearn objects! Carry the data through the feature scaling, PCA, and clustering steps, obtaining cluster assignments for all of the data in the customer demographics data."
   ]
  },
  {
   "cell_type": "code",
   "execution_count": 61,
   "metadata": {},
   "outputs": [
    {
     "data": {
      "text/plain": [
       "(191652, 85)"
      ]
     },
     "execution_count": 61,
     "metadata": {},
     "output_type": "execute_result"
    }
   ],
   "source": [
    "# Load in the customer demographics data.\n",
    "customers = pd.read_csv('Udacity_CUSTOMERS_Subset.csv', sep=';')\n",
    "customers.shape"
   ]
  },
  {
   "cell_type": "code",
   "execution_count": 62,
   "metadata": {},
   "outputs": [
    {
     "data": {
      "text/plain": [
       "(122116, 64)"
      ]
     },
     "execution_count": 62,
     "metadata": {},
     "output_type": "execute_result"
    }
   ],
   "source": [
    "customers_clean = clean_data(customers)\n",
    "customers_clean.shape"
   ]
  },
  {
   "cell_type": "code",
   "execution_count": 63,
   "metadata": {},
   "outputs": [],
   "source": [
    "# Apply preprocessing, feature transformation, and clustering from the general\n",
    "# demographics onto the customer data, obtaining cluster predictions for the\n",
    "# deal with NA's\n",
    "customers_impute = imputer.fit_transform(customers_clean)\n",
    "customers_scaled = scaler.transform(customers_impute)\n",
    "customers_pca = pca_final.transform(customers_scaled)\n",
    "customers_prediction = kmeans.predict(customers_pca)\n"
   ]
  },
  {
   "cell_type": "markdown",
   "metadata": {},
   "source": [
    "### Step 3.3: Compare Customer Data to Demographics Data\n",
    "\n",
    "At this point, you have clustered data based on demographics of the general population of Germany, and seen how the customer data for a mail-order sales company maps onto those demographic clusters. In this final substep, you will compare the two cluster distributions to see where the strongest customer base for the company is.\n",
    "\n",
    "Consider the proportion of persons in each cluster for the general population, and the proportions for the customers. If we think the company's customer base to be universal, then the cluster assignment proportions should be fairly similar between the two. If there are only particular segments of the population that are interested in the company's products, then we should see a mismatch from one to the other. If there is a higher proportion of persons in a cluster for the customer data compared to the general population (e.g. 5% of persons are assigned to a cluster for the general population, but 15% of the customer data is closest to that cluster's centroid) then that suggests the people in that cluster to be a target audience for the company. On the other hand, the proportion of the data in a cluster being larger in the general population than the customer data (e.g. only 2% of customers closest to a population centroid that captures 6% of the data) suggests that group of persons to be outside of the target demographics.\n",
    "\n",
    "Take a look at the following points in this step:\n",
    "\n",
    "- Compute the proportion of data points in each cluster for the general population and the customer data. Visualizations will be useful here: both for the individual dataset proportions, but also to visualize the ratios in cluster representation between groups. Seaborn's [`countplot()`](https://seaborn.pydata.org/generated/seaborn.countplot.html) or [`barplot()`](https://seaborn.pydata.org/generated/seaborn.barplot.html) function could be handy.\n",
    "  - Recall the analysis you performed in step 1.1.3 of the project, where you separated out certain data points from the dataset if they had more than a specified threshold of missing values. If you found that this group was qualitatively different from the main bulk of the data, you should treat this as an additional data cluster in this analysis. Make sure that you account for the number of data points in this subset, for both the general population and customer datasets, when making your computations!\n",
    "- Which cluster or clusters are overrepresented in the customer dataset compared to the general population? Select at least one such cluster and infer what kind of people might be represented by that cluster. Use the principal component interpretations from step 2.3 or look at additional components to help you make this inference. Alternatively, you can use the `.inverse_transform()` method of the PCA and StandardScaler objects to transform centroids back to the original data space and interpret the retrieved values directly.\n",
    "- Perform a similar investigation for the underrepresented clusters. Which cluster or clusters are underrepresented in the customer dataset compared to the general population, and what kinds of people are typified by these clusters?"
   ]
  },
  {
   "cell_type": "code",
   "execution_count": 132,
   "metadata": {},
   "outputs": [],
   "source": [
    "# Compare the proportion of data in each cluster for the customer data to the\n",
    "# proportion of data in each cluster for the general population.\n",
    "azdias_prediction = pd.DataFrame (np.array(kmeans.predict(azdias_pca_final)) , columns =['cluster'])\n",
    "customer_prediction = pd.DataFrame(np.array(kmeans.predict(customers_pca)), columns = ['cluster'])\n",
    "### count howmany in each cluster\n",
    "azdias_each_cluster = azdias_prediction.groupby('cluster').size()\n",
    "customer_each_cluster = customer_prediction.groupby('cluster').size()\n",
    "## find the probabilities\n",
    "azdias_probability = pd.DataFrame(azdias_each_cluster/azdias_each_cluster.sum()).reset_index()\n",
    "azdias_probability.columns = ['cluster','probability']\n",
    "\n",
    "customer_probability = pd.DataFrame(customer_each_cluster/customer_each_cluster.sum()).reset_index()\n",
    "customer_probability.columns = ['cluster','probability']\n",
    "\n"
   ]
  },
  {
   "cell_type": "code",
   "execution_count": 133,
   "metadata": {
    "scrolled": true
   },
   "outputs": [
    {
     "data": {
      "text/html": [
       "<div>\n",
       "<style scoped>\n",
       "    .dataframe tbody tr th:only-of-type {\n",
       "        vertical-align: middle;\n",
       "    }\n",
       "\n",
       "    .dataframe tbody tr th {\n",
       "        vertical-align: top;\n",
       "    }\n",
       "\n",
       "    .dataframe thead th {\n",
       "        text-align: right;\n",
       "    }\n",
       "</style>\n",
       "<table border=\"1\" class=\"dataframe\">\n",
       "  <thead>\n",
       "    <tr style=\"text-align: right;\">\n",
       "      <th></th>\n",
       "      <th>cluster</th>\n",
       "      <th>probability</th>\n",
       "    </tr>\n",
       "  </thead>\n",
       "  <tbody>\n",
       "    <tr>\n",
       "      <th>0</th>\n",
       "      <td>0</td>\n",
       "      <td>0.000033</td>\n",
       "    </tr>\n",
       "    <tr>\n",
       "      <th>1</th>\n",
       "      <td>2</td>\n",
       "      <td>0.675350</td>\n",
       "    </tr>\n",
       "    <tr>\n",
       "      <th>2</th>\n",
       "      <td>3</td>\n",
       "      <td>0.318803</td>\n",
       "    </tr>\n",
       "    <tr>\n",
       "      <th>3</th>\n",
       "      <td>5</td>\n",
       "      <td>0.001507</td>\n",
       "    </tr>\n",
       "    <tr>\n",
       "      <th>4</th>\n",
       "      <td>6</td>\n",
       "      <td>0.000008</td>\n",
       "    </tr>\n",
       "    <tr>\n",
       "      <th>5</th>\n",
       "      <td>7</td>\n",
       "      <td>0.004299</td>\n",
       "    </tr>\n",
       "  </tbody>\n",
       "</table>\n",
       "</div>"
      ],
      "text/plain": [
       "   cluster  probability\n",
       "0        0     0.000033\n",
       "1        2     0.675350\n",
       "2        3     0.318803\n",
       "3        5     0.001507\n",
       "4        6     0.000008\n",
       "5        7     0.004299"
      ]
     },
     "execution_count": 133,
     "metadata": {},
     "output_type": "execute_result"
    }
   ],
   "source": [
    "customer_probability"
   ]
  },
  {
   "cell_type": "code",
   "execution_count": 134,
   "metadata": {},
   "outputs": [],
   "source": [
    "## dataframe that contains the clusters and relevent probabilities in each population\n",
    "azdias_probability ['target'] = 'population'\n",
    "azdias_probability.columns = ['cluster' , 'probability' , 'target']\n",
    "customer_probability ['target'] = 'customers'\n",
    "azdias_probability.columns = ['cluster' , 'probability' , 'target']\n",
    "\n",
    "prediction_comparison = pd.concat([azdias_probability , customer_probability])\n"
   ]
  },
  {
   "cell_type": "code",
   "execution_count": 135,
   "metadata": {},
   "outputs": [
    {
     "data": {
      "text/html": [
       "<div>\n",
       "<style scoped>\n",
       "    .dataframe tbody tr th:only-of-type {\n",
       "        vertical-align: middle;\n",
       "    }\n",
       "\n",
       "    .dataframe tbody tr th {\n",
       "        vertical-align: top;\n",
       "    }\n",
       "\n",
       "    .dataframe thead th {\n",
       "        text-align: right;\n",
       "    }\n",
       "</style>\n",
       "<table border=\"1\" class=\"dataframe\">\n",
       "  <thead>\n",
       "    <tr style=\"text-align: right;\">\n",
       "      <th></th>\n",
       "      <th>cluster</th>\n",
       "      <th>probability</th>\n",
       "      <th>target</th>\n",
       "    </tr>\n",
       "  </thead>\n",
       "  <tbody>\n",
       "    <tr>\n",
       "      <th>0</th>\n",
       "      <td>0</td>\n",
       "      <td>0.144629</td>\n",
       "      <td>population</td>\n",
       "    </tr>\n",
       "    <tr>\n",
       "      <th>1</th>\n",
       "      <td>1</td>\n",
       "      <td>0.089635</td>\n",
       "      <td>population</td>\n",
       "    </tr>\n",
       "    <tr>\n",
       "      <th>2</th>\n",
       "      <td>2</td>\n",
       "      <td>0.170150</td>\n",
       "      <td>population</td>\n",
       "    </tr>\n",
       "    <tr>\n",
       "      <th>3</th>\n",
       "      <td>3</td>\n",
       "      <td>0.167526</td>\n",
       "      <td>population</td>\n",
       "    </tr>\n",
       "    <tr>\n",
       "      <th>4</th>\n",
       "      <td>4</td>\n",
       "      <td>0.098689</td>\n",
       "      <td>population</td>\n",
       "    </tr>\n",
       "    <tr>\n",
       "      <th>5</th>\n",
       "      <td>5</td>\n",
       "      <td>0.087912</td>\n",
       "      <td>population</td>\n",
       "    </tr>\n",
       "    <tr>\n",
       "      <th>6</th>\n",
       "      <td>6</td>\n",
       "      <td>0.139662</td>\n",
       "      <td>population</td>\n",
       "    </tr>\n",
       "    <tr>\n",
       "      <th>7</th>\n",
       "      <td>7</td>\n",
       "      <td>0.101797</td>\n",
       "      <td>population</td>\n",
       "    </tr>\n",
       "    <tr>\n",
       "      <th>0</th>\n",
       "      <td>0</td>\n",
       "      <td>0.000033</td>\n",
       "      <td>customers</td>\n",
       "    </tr>\n",
       "    <tr>\n",
       "      <th>1</th>\n",
       "      <td>2</td>\n",
       "      <td>0.675350</td>\n",
       "      <td>customers</td>\n",
       "    </tr>\n",
       "    <tr>\n",
       "      <th>2</th>\n",
       "      <td>3</td>\n",
       "      <td>0.318803</td>\n",
       "      <td>customers</td>\n",
       "    </tr>\n",
       "    <tr>\n",
       "      <th>3</th>\n",
       "      <td>5</td>\n",
       "      <td>0.001507</td>\n",
       "      <td>customers</td>\n",
       "    </tr>\n",
       "    <tr>\n",
       "      <th>4</th>\n",
       "      <td>6</td>\n",
       "      <td>0.000008</td>\n",
       "      <td>customers</td>\n",
       "    </tr>\n",
       "    <tr>\n",
       "      <th>5</th>\n",
       "      <td>7</td>\n",
       "      <td>0.004299</td>\n",
       "      <td>customers</td>\n",
       "    </tr>\n",
       "  </tbody>\n",
       "</table>\n",
       "</div>"
      ],
      "text/plain": [
       "   cluster  probability      target\n",
       "0        0     0.144629  population\n",
       "1        1     0.089635  population\n",
       "2        2     0.170150  population\n",
       "3        3     0.167526  population\n",
       "4        4     0.098689  population\n",
       "5        5     0.087912  population\n",
       "6        6     0.139662  population\n",
       "7        7     0.101797  population\n",
       "0        0     0.000033   customers\n",
       "1        2     0.675350   customers\n",
       "2        3     0.318803   customers\n",
       "3        5     0.001507   customers\n",
       "4        6     0.000008   customers\n",
       "5        7     0.004299   customers"
      ]
     },
     "execution_count": 135,
     "metadata": {},
     "output_type": "execute_result"
    }
   ],
   "source": [
    "prediction_comparison"
   ]
  },
  {
   "cell_type": "code",
   "execution_count": 136,
   "metadata": {},
   "outputs": [
    {
     "data": {
      "text/plain": [
       "<matplotlib.axes._subplots.AxesSubplot at 0x7f1dfef4f048>"
      ]
     },
     "execution_count": 136,
     "metadata": {},
     "output_type": "execute_result"
    },
    {
     "data": {
      "image/png": "[encoded data removed]",
      "text/plain": [
       "<matplotlib.figure.Figure at 0x7f1dff29af98>"
      ]
     },
     "metadata": {
      "needs_background": "light"
     },
     "output_type": "display_data"
    }
   ],
   "source": [
    "sns.barplot(x='cluster' , y='probability', hue='target' , data = prediction_comparison)"
   ]
  },
  {
   "cell_type": "code",
   "execution_count": 137,
   "metadata": {
    "scrolled": true
   },
   "outputs": [
    {
     "data": {
      "text/html": [
       "<div>\n",
       "<style scoped>\n",
       "    .dataframe tbody tr th:only-of-type {\n",
       "        vertical-align: middle;\n",
       "    }\n",
       "\n",
       "    .dataframe tbody tr th {\n",
       "        vertical-align: top;\n",
       "    }\n",
       "\n",
       "    .dataframe thead th {\n",
       "        text-align: right;\n",
       "    }\n",
       "</style>\n",
       "<table border=\"1\" class=\"dataframe\">\n",
       "  <thead>\n",
       "    <tr style=\"text-align: right;\">\n",
       "      <th></th>\n",
       "      <th>0</th>\n",
       "      <th>1</th>\n",
       "      <th>2</th>\n",
       "      <th>3</th>\n",
       "      <th>4</th>\n",
       "      <th>5</th>\n",
       "      <th>6</th>\n",
       "      <th>7</th>\n",
       "      <th>8</th>\n",
       "      <th>9</th>\n",
       "      <th>...</th>\n",
       "      <th>23</th>\n",
       "      <th>24</th>\n",
       "      <th>25</th>\n",
       "      <th>26</th>\n",
       "      <th>27</th>\n",
       "      <th>28</th>\n",
       "      <th>29</th>\n",
       "      <th>30</th>\n",
       "      <th>31</th>\n",
       "      <th>cluster</th>\n",
       "    </tr>\n",
       "  </thead>\n",
       "  <tbody>\n",
       "    <tr>\n",
       "      <th>0</th>\n",
       "      <td>-276.939073</td>\n",
       "      <td>-102.232183</td>\n",
       "      <td>-45.853371</td>\n",
       "      <td>-71.075955</td>\n",
       "      <td>-35.455258</td>\n",
       "      <td>49.425383</td>\n",
       "      <td>64.334991</td>\n",
       "      <td>-200.488962</td>\n",
       "      <td>16.789496</td>\n",
       "      <td>89.842582</td>\n",
       "      <td>...</td>\n",
       "      <td>68.856610</td>\n",
       "      <td>-33.409526</td>\n",
       "      <td>35.061239</td>\n",
       "      <td>-42.495380</td>\n",
       "      <td>-156.300924</td>\n",
       "      <td>-39.651784</td>\n",
       "      <td>-115.962340</td>\n",
       "      <td>-53.319452</td>\n",
       "      <td>45.687716</td>\n",
       "      <td>2</td>\n",
       "    </tr>\n",
       "    <tr>\n",
       "      <th>1</th>\n",
       "      <td>-98.367737</td>\n",
       "      <td>-32.098770</td>\n",
       "      <td>-18.547169</td>\n",
       "      <td>-23.343251</td>\n",
       "      <td>-10.569867</td>\n",
       "      <td>19.276560</td>\n",
       "      <td>21.211460</td>\n",
       "      <td>-70.736650</td>\n",
       "      <td>4.181649</td>\n",
       "      <td>30.314175</td>\n",
       "      <td>...</td>\n",
       "      <td>25.755255</td>\n",
       "      <td>-11.394573</td>\n",
       "      <td>11.701153</td>\n",
       "      <td>-15.409755</td>\n",
       "      <td>-57.362508</td>\n",
       "      <td>-13.203815</td>\n",
       "      <td>-40.755311</td>\n",
       "      <td>-19.154366</td>\n",
       "      <td>16.041542</td>\n",
       "      <td>3</td>\n",
       "    </tr>\n",
       "    <tr>\n",
       "      <th>2</th>\n",
       "      <td>-114.274626</td>\n",
       "      <td>-44.560470</td>\n",
       "      <td>-20.061698</td>\n",
       "      <td>-31.598794</td>\n",
       "      <td>-13.568361</td>\n",
       "      <td>22.371686</td>\n",
       "      <td>28.912467</td>\n",
       "      <td>-84.517825</td>\n",
       "      <td>6.780187</td>\n",
       "      <td>38.689113</td>\n",
       "      <td>...</td>\n",
       "      <td>31.010534</td>\n",
       "      <td>-13.849481</td>\n",
       "      <td>16.036673</td>\n",
       "      <td>-17.084627</td>\n",
       "      <td>-67.474718</td>\n",
       "      <td>-15.998332</td>\n",
       "      <td>-50.600101</td>\n",
       "      <td>-21.308436</td>\n",
       "      <td>19.146234</td>\n",
       "      <td>2</td>\n",
       "    </tr>\n",
       "    <tr>\n",
       "      <th>3</th>\n",
       "      <td>-266.359935</td>\n",
       "      <td>-98.980701</td>\n",
       "      <td>-45.834671</td>\n",
       "      <td>-69.168717</td>\n",
       "      <td>-31.919402</td>\n",
       "      <td>47.983388</td>\n",
       "      <td>63.576421</td>\n",
       "      <td>-193.460739</td>\n",
       "      <td>15.906919</td>\n",
       "      <td>80.177388</td>\n",
       "      <td>...</td>\n",
       "      <td>66.952397</td>\n",
       "      <td>-33.683916</td>\n",
       "      <td>33.613857</td>\n",
       "      <td>-42.057914</td>\n",
       "      <td>-155.469661</td>\n",
       "      <td>-37.870183</td>\n",
       "      <td>-115.282456</td>\n",
       "      <td>-50.388860</td>\n",
       "      <td>45.394715</td>\n",
       "      <td>2</td>\n",
       "    </tr>\n",
       "    <tr>\n",
       "      <th>4</th>\n",
       "      <td>-298.908782</td>\n",
       "      <td>-110.890989</td>\n",
       "      <td>-51.242423</td>\n",
       "      <td>-76.957110</td>\n",
       "      <td>-37.684472</td>\n",
       "      <td>52.598285</td>\n",
       "      <td>70.281761</td>\n",
       "      <td>-217.777936</td>\n",
       "      <td>18.175203</td>\n",
       "      <td>95.622539</td>\n",
       "      <td>...</td>\n",
       "      <td>72.679277</td>\n",
       "      <td>-36.325734</td>\n",
       "      <td>37.889339</td>\n",
       "      <td>-45.528736</td>\n",
       "      <td>-171.075109</td>\n",
       "      <td>-42.804223</td>\n",
       "      <td>-125.674987</td>\n",
       "      <td>-57.228788</td>\n",
       "      <td>50.079847</td>\n",
       "      <td>2</td>\n",
       "    </tr>\n",
       "  </tbody>\n",
       "</table>\n",
       "<p>5 rows × 33 columns</p>\n",
       "</div>"
      ],
      "text/plain": [
       "            0           1          2          3          4          5  \\\n",
       "0 -276.939073 -102.232183 -45.853371 -71.075955 -35.455258  49.425383   \n",
       "1  -98.367737  -32.098770 -18.547169 -23.343251 -10.569867  19.276560   \n",
       "2 -114.274626  -44.560470 -20.061698 -31.598794 -13.568361  22.371686   \n",
       "3 -266.359935  -98.980701 -45.834671 -69.168717 -31.919402  47.983388   \n",
       "4 -298.908782 -110.890989 -51.242423 -76.957110 -37.684472  52.598285   \n",
       "\n",
       "           6           7          8          9   ...            23         24  \\\n",
       "0  64.334991 -200.488962  16.789496  89.842582   ...     68.856610 -33.409526   \n",
       "1  21.211460  -70.736650   4.181649  30.314175   ...     25.755255 -11.394573   \n",
       "2  28.912467  -84.517825   6.780187  38.689113   ...     31.010534 -13.849481   \n",
       "3  63.576421 -193.460739  15.906919  80.177388   ...     66.952397 -33.683916   \n",
       "4  70.281761 -217.777936  18.175203  95.622539   ...     72.679277 -36.325734   \n",
       "\n",
       "          25         26          27         28          29         30  \\\n",
       "0  35.061239 -42.495380 -156.300924 -39.651784 -115.962340 -53.319452   \n",
       "1  11.701153 -15.409755  -57.362508 -13.203815  -40.755311 -19.154366   \n",
       "2  16.036673 -17.084627  -67.474718 -15.998332  -50.600101 -21.308436   \n",
       "3  33.613857 -42.057914 -155.469661 -37.870183 -115.282456 -50.388860   \n",
       "4  37.889339 -45.528736 -171.075109 -42.804223 -125.674987 -57.228788   \n",
       "\n",
       "          31  cluster  \n",
       "0  45.687716        2  \n",
       "1  16.041542        3  \n",
       "2  19.146234        2  \n",
       "3  45.394715        2  \n",
       "4  50.079847        2  \n",
       "\n",
       "[5 rows x 33 columns]"
      ]
     },
     "execution_count": 137,
     "metadata": {},
     "output_type": "execute_result"
    }
   ],
   "source": [
    "### join the customer pca dataframe with the predicted clusters\n",
    "customer_pca_cluster = pd.merge(left= pd.DataFrame(customers_pca) , right =customer_prediction , left_index = True , right_index =True)\n",
    "customer_pca_cluster.head()\n"
   ]
  },
  {
   "cell_type": "code",
   "execution_count": 169,
   "metadata": {},
   "outputs": [],
   "source": [
    "# What kinds of people are part of a cluster that is overrepresented in the\n",
    "# customer data compared to the general population?\n",
    "### characteristics of azdias population within cluster = 2 \n",
    "over_azdias_2 = pca_final.inverse_transform(cluster_dataframe.query('cluster == 2').drop('cluster' , axis =1))\n",
    "over_azdias_transform_2 = scaler.inverse_transform(over_azdias_2)\n",
    "over_azdias_transform_2 = pd.DataFrame(over_azdias_transform_2 , columns= azdias_new.columns)\n",
    "#over_azdias_transform .mean().sort_values()"
   ]
  },
  {
   "cell_type": "code",
   "execution_count": 167,
   "metadata": {},
   "outputs": [
    {
     "data": {
      "text/plain": [
       "REGIOTYP                -2176.556038\n",
       "PLZ8_ANTG2               -165.475380\n",
       "PLZ8_ANTG1               -122.029873\n",
       "PLZ8_ANTG3               -113.876834\n",
       "KONSUMNAEHE               -57.944788\n",
       "PLZ8_ANTG4                -38.277785\n",
       "wealth                    -25.828005\n",
       "life_stage                -25.828005\n",
       "KBA05_GBZ                 -21.878924\n",
       "RELAT_AB                  -20.681940\n",
       "KBA05_ANTG4               -18.456905\n",
       "SEMIO_MAT                 -10.130327\n",
       "ANZ_PERSONEN               -8.233029\n",
       "ARBEIT                     -7.476026\n",
       "W_KEIT_KIND_HH             -6.848413\n",
       "FINANZ_ANLEGER             -6.832417\n",
       "BALLRAUM                   -6.763889\n",
       "KBA05_ANTG1                -5.368443\n",
       "movement                   -4.753575\n",
       "FINANZ_MINIMALIST          -3.524923\n",
       "EWDICHTE                   -3.391261\n",
       "KKK                        -2.974107\n",
       "ANZ_HH_TITEL               -2.780612\n",
       "SEMIO_DOM                  -0.364957\n",
       "FINANZ_HAUSBAUER           -0.122384\n",
       "SEMIO_FAM                  -0.087765\n",
       "KBA05_ANTG3                -0.057802\n",
       "SOHO_KZ                     0.018047\n",
       "ANZ_TITEL                   0.215527\n",
       "HEALTH_TYP                  0.757748\n",
       "                            ...     \n",
       "SEMIO_LUST                  2.285386\n",
       "SEMIO_TRADV                 2.346650\n",
       "ALTERSKATEGORIE_GROB        2.463663\n",
       "SEMIO_KULT                  3.205303\n",
       "decade                      3.636889\n",
       "SEMIO_ERL                   5.552199\n",
       "GREEN_AVANTGARDE            5.586737\n",
       "ORTSGR_KLS9                 6.997079\n",
       "PLZ8_GBZ                    7.991103\n",
       "SEMIO_REL                   8.700565\n",
       "GEBAEUDETYP_RASTER          8.884972\n",
       "SEMIO_VERT                  9.010179\n",
       "RETOURTYP_BK_S             10.562001\n",
       "SEMIO_KAEM                 11.558174\n",
       "SEMIO_KRIT                 12.102238\n",
       "FINANZ_UNAUFFAELLIGER      12.716376\n",
       "HH_EINKOMMEN_SCORE         15.850683\n",
       "SEMIO_PFLICHT              16.019501\n",
       "OST_WEST_KZ                17.577362\n",
       "KBA05_ANTG2                17.869618\n",
       "ONLINE_AFFINITAET          20.373285\n",
       "WOHNDAUER_2008             20.564941\n",
       "MOBI_REGIO                 22.873661\n",
       "SEMIO_SOZ                  23.196630\n",
       "FINANZ_VORSORGER           23.682135\n",
       "INNENSTADT                 38.127489\n",
       "PLZ8_HHZ                  113.847376\n",
       "KBA13_ANZAHL_PKW          181.852354\n",
       "ANZ_HAUSHALTE_AKTIV       199.949008\n",
       "MIN_GEBAEUDEJAHR         1966.199768\n",
       "Length: 64, dtype: float64"
      ]
     },
     "execution_count": 167,
     "metadata": {},
     "output_type": "execute_result"
    }
   ],
   "source": [
    "# What kinds of people are part of a cluster that is overrepresented in the\n",
    "# customer data compared to the general population?\n",
    "## characteristics of customer population within cluster = 2\n",
    "over_customer_2 = pca_final.inverse_transform(customer_pca_cluster.query('cluster == 2').drop('cluster' , axis =1))\n",
    "over_customer_transform_2 = scaler.inverse_transform(over_customer_2)\n",
    "over_customer_transform_2  = pd.DataFrame(over_customer_transform_2 , columns= customers_clean.columns)\n",
    "over_customer_transform_2 .mean().sort_values()\n"
   ]
  },
  {
   "cell_type": "code",
   "execution_count": 170,
   "metadata": {
    "scrolled": true
   },
   "outputs": [
    {
     "name": "stdout",
     "output_type": "stream",
     "text": [
      "4.09870985223\n",
      "-2176.55603785\n"
     ]
    }
   ],
   "source": [
    "print(over_azdias_transform_2['REGIOTYP'].mean())\n",
    "print(over_customer_transform_2['REGIOTYP'].mean())"
   ]
  },
  {
   "cell_type": "code",
   "execution_count": 171,
   "metadata": {},
   "outputs": [
    {
     "name": "stdout",
     "output_type": "stream",
     "text": [
      "2.34411007547\n",
      "-165.475379967\n"
     ]
    }
   ],
   "source": [
    "print(over_azdias_transform_2['PLZ8_ANTG2'].mean())\n",
    "print(over_customer_transform_2['PLZ8_ANTG2'].mean())"
   ]
  },
  {
   "cell_type": "code",
   "execution_count": 177,
   "metadata": {},
   "outputs": [
    {
     "name": "stdout",
     "output_type": "stream",
     "text": [
      "2.90891388697\n",
      "-122.029873008\n"
     ]
    }
   ],
   "source": [
    "print(over_azdias_transform_2['PLZ8_ANTG1'].mean())\n",
    "print(over_customer_transform_2['PLZ8_ANTG1'].mean())"
   ]
  },
  {
   "cell_type": "code",
   "execution_count": 165,
   "metadata": {},
   "outputs": [],
   "source": [
    "# What kinds of people are part of a cluster that is overrepresented in the\n",
    "# customer data compared to the general population?\n",
    "### characteristics of azdias population within cluster = 3 \n",
    "over_azdias_3 = pca_final.inverse_transform(cluster_dataframe.query('cluster == 3').drop('cluster' , axis =1))\n",
    "over_azdias_transform_3 = scaler.inverse_transform(over_azdias_3)\n",
    "over_azdias_transform_3  = pd.DataFrame(over_azdias_transform_3 , columns= azdias_new.columns)\n",
    "#over_azdias_transform .mean()"
   ]
  },
  {
   "cell_type": "code",
   "execution_count": 164,
   "metadata": {},
   "outputs": [
    {
     "data": {
      "text/plain": [
       "REGIOTYP                -2094.419783\n",
       "PLZ8_ANTG2               -160.028243\n",
       "PLZ8_ANTG1               -118.181677\n",
       "PLZ8_ANTG3               -110.043200\n",
       "KONSUMNAEHE               -56.118437\n",
       "PLZ8_ANTG4                -36.877424\n",
       "wealth                    -24.557784\n",
       "life_stage                -24.557784\n",
       "KBA05_GBZ                 -21.015372\n",
       "RELAT_AB                  -19.858312\n",
       "KBA05_ANTG4               -17.784092\n",
       "SEMIO_MAT                 -11.102106\n",
       "ANZ_PERSONEN               -8.345454\n",
       "ARBEIT                     -6.974004\n",
       "BALLRAUM                   -6.425347\n",
       "W_KEIT_KIND_HH             -6.367578\n",
       "FINANZ_ANLEGER             -5.882832\n",
       "KBA05_ANTG1                -5.565443\n",
       "movement                   -4.456666\n",
       "FINANZ_MINIMALIST          -4.254627\n",
       "EWDICHTE                   -3.125133\n",
       "KKK                        -2.871786\n",
       "ANZ_HH_TITEL               -2.665531\n",
       "SEMIO_FAM                  -2.627376\n",
       "SOHO_KZ                     0.018102\n",
       "KBA05_ANTG3                 0.061369\n",
       "ANZ_TITEL                   0.201547\n",
       "SEMIO_KULT                  0.235594\n",
       "HEALTH_TYP                  0.722446\n",
       "FINANZ_HAUSBAUER            0.946120\n",
       "                            ...     \n",
       "SEMIO_RAT                   2.274601\n",
       "SEMIO_LUST                  2.376556\n",
       "SEMIO_DOM                   2.441587\n",
       "ALTERSKATEGORIE_GROB        2.600670\n",
       "decade                      3.601254\n",
       "GREEN_AVANTGARDE            5.293817\n",
       "SEMIO_VERT                  5.810785\n",
       "SEMIO_REL                   6.857275\n",
       "ORTSGR_KLS9                 6.863860\n",
       "SEMIO_ERL                   7.717358\n",
       "PLZ8_GBZ                    7.957485\n",
       "GEBAEUDETYP_RASTER          8.599997\n",
       "RETOURTYP_BK_S              9.903304\n",
       "FINANZ_UNAUFFAELLIGER      12.316556\n",
       "SEMIO_KAEM                 14.492855\n",
       "SEMIO_KRIT                 14.592847\n",
       "SEMIO_PFLICHT              15.391312\n",
       "HH_EINKOMMEN_SCORE         15.911811\n",
       "OST_WEST_KZ                17.029813\n",
       "KBA05_ANTG2                17.315841\n",
       "ONLINE_AFFINITAET          19.596428\n",
       "WOHNDAUER_2008             20.014711\n",
       "SEMIO_SOZ                  21.059034\n",
       "MOBI_REGIO                 21.802635\n",
       "FINANZ_VORSORGER           22.930930\n",
       "INNENSTADT                 36.857095\n",
       "PLZ8_HHZ                  110.179147\n",
       "KBA13_ANZAHL_PKW          175.960221\n",
       "ANZ_HAUSHALTE_AKTIV       195.882875\n",
       "MIN_GEBAEUDEJAHR         1966.995681\n",
       "Length: 64, dtype: float64"
      ]
     },
     "execution_count": 164,
     "metadata": {},
     "output_type": "execute_result"
    }
   ],
   "source": [
    "# What kinds of people are part of a cluster that is overrepresented in the\n",
    "# customer data compared to the general population?\n",
    "## characteristics of customer population within cluster = 3\n",
    "over_customer_3 = pca_final.inverse_transform(customer_pca_cluster.query('cluster == 3').drop('cluster' , axis =1))\n",
    "over_customer_transform_3 = scaler.inverse_transform(over_customer_3)\n",
    "over_customer_transform_3 = pd.DataFrame(over_customer_transform_3 , columns= customers_clean.columns)\n",
    "over_customer_transform_3.mean().sort_values()\n"
   ]
  },
  {
   "cell_type": "code",
   "execution_count": 173,
   "metadata": {},
   "outputs": [
    {
     "name": "stdout",
     "output_type": "stream",
     "text": [
      "4.0836214535\n",
      "-2094.41978283\n"
     ]
    }
   ],
   "source": [
    "print(over_azdias_transform_3['REGIOTYP'].mean())\n",
    "print(over_customer_transform_3['REGIOTYP'].mean())"
   ]
  },
  {
   "cell_type": "code",
   "execution_count": 172,
   "metadata": {},
   "outputs": [
    {
     "name": "stdout",
     "output_type": "stream",
     "text": [
      "2.36031474057\n",
      "-160.028242979\n"
     ]
    }
   ],
   "source": [
    "print(over_azdias_transform_3['PLZ8_ANTG2'].mean())\n",
    "print(over_customer_transform_3['PLZ8_ANTG2'].mean())"
   ]
  },
  {
   "cell_type": "code",
   "execution_count": 176,
   "metadata": {},
   "outputs": [
    {
     "name": "stdout",
     "output_type": "stream",
     "text": [
      "2.9113277921\n",
      "-118.181677106\n"
     ]
    }
   ],
   "source": [
    "print(over_azdias_transform_3['PLZ8_ANTG1'].mean())\n",
    "print(over_customer_transform_3['PLZ8_ANTG1'].mean())"
   ]
  },
  {
   "cell_type": "code",
   "execution_count": 166,
   "metadata": {},
   "outputs": [],
   "source": [
    "# What kinds of people are part of a cluster that is underrepresented in the\n",
    "# customer data compared to the general population?\n",
    "### characteristics of azdias population within cluster =  \n",
    "under_azdias_6 = pca_final.inverse_transform(cluster_dataframe.query('cluster == 6').drop('cluster' , axis =1))\n",
    "under_azdias_transform_6 = scaler.inverse_transform(under_azdias_6)\n",
    "under_azdias_transform_6  = pd.DataFrame(under_azdias_transform_6 , columns= azdias_new.columns)\n",
    "#under_azdias_transform_6.mean().sort_values()"
   ]
  },
  {
   "cell_type": "code",
   "execution_count": 162,
   "metadata": {},
   "outputs": [
    {
     "data": {
      "text/plain": [
       "REGIOTYP                 -389.833751\n",
       "PLZ8_ANTG3                 -1.681290\n",
       "OST_WEST_KZ                -1.044834\n",
       "PLZ8_ANTG2                 -0.984139\n",
       "FINANZ_UNAUFFAELLIGER      -0.655698\n",
       "ANZ_HH_TITEL               -0.029879\n",
       "movement                   -0.013741\n",
       "SOHO_KZ                     0.000186\n",
       "ANZ_TITEL                   0.001764\n",
       "PLZ8_ANTG4                  0.034233\n",
       "KBA05_ANTG4                 0.065563\n",
       "KBA05_ANTG1                 0.224152\n",
       "KKK                         0.403052\n",
       "KBA05_ANTG3                 0.668301\n",
       "FINANZ_SPARER               0.771002\n",
       "ANZ_PERSONEN                0.812514\n",
       "GREEN_AVANTGARDE            1.003520\n",
       "VERS_TYP                    1.017777\n",
       "ANREDE_KZ                   1.078244\n",
       "PLZ8_ANTG1                  1.102945\n",
       "KONSUMNAEHE                 1.431029\n",
       "RELAT_AB                    1.458480\n",
       "HEALTH_TYP                  1.733102\n",
       "FINANZ_ANLEGER              2.014616\n",
       "SEMIO_RAT                   2.137407\n",
       "SEMIO_KAEM                  2.235875\n",
       "BALLRAUM                    2.258503\n",
       "SEMIO_TRADV                 2.270826\n",
       "decade                      2.357804\n",
       "SEMIO_DOM                   2.437204\n",
       "                            ...     \n",
       "ONLINE_AFFINITAET           3.072995\n",
       "SEMIO_KRIT                  3.093806\n",
       "SEMIO_MAT                   3.161929\n",
       "wealth                      3.321432\n",
       "life_stage                  3.321432\n",
       "ALTERSKATEGORIE_GROB        3.603815\n",
       "SEMIO_REL                   3.608000\n",
       "ORTSGR_KLS9                 3.624764\n",
       "FINANZ_MINIMALIST           3.665718\n",
       "KBA05_ANTG2                 3.867609\n",
       "SEMIO_ERL                   4.189739\n",
       "SEMIO_LUST                  4.267706\n",
       "ARBEIT                      4.291425\n",
       "INNENSTADT                  4.384634\n",
       "SEMIO_FAM                   4.389200\n",
       "SEMIO_KULT                  4.656738\n",
       "FINANZ_VORSORGER            4.698331\n",
       "RETOURTYP_BK_S              4.739819\n",
       "KBA13_ANZAHL_PKW            4.897756\n",
       "HH_EINKOMMEN_SCORE          4.968307\n",
       "FINANZ_HAUSBAUER            5.170593\n",
       "PLZ8_GBZ                    5.259846\n",
       "W_KEIT_KIND_HH              5.300054\n",
       "EWDICHTE                    5.872242\n",
       "KBA05_GBZ                   5.963786\n",
       "SEMIO_SOZ                   6.128872\n",
       "SEMIO_VERT                  6.264925\n",
       "ANZ_HAUSHALTE_AKTIV         8.431959\n",
       "WOHNDAUER_2008              9.057222\n",
       "MIN_GEBAEUDEJAHR         1991.426727\n",
       "Length: 64, dtype: float64"
      ]
     },
     "execution_count": 162,
     "metadata": {},
     "output_type": "execute_result"
    }
   ],
   "source": [
    "# What kinds of people are part of a cluster that is underrepresented in the\n",
    "# customer data compared to the general population?\n",
    "## characteristics of customer population within cluster = 6\n",
    "under_customer_6 = pca_final.inverse_transform(customer_pca_cluster.query('cluster == 6').drop('cluster' , axis =1))\n",
    "under_customer_transform_6 = scaler.inverse_transform(under_customer_6)\n",
    "under_customer_transform_6  = pd.DataFrame(under_customer_transform_6 , columns= customers_clean.columns)\n",
    "under_customer_transform_6.mean().sort_values()\n"
   ]
  },
  {
   "cell_type": "code",
   "execution_count": 163,
   "metadata": {},
   "outputs": [
    {
     "name": "stdout",
     "output_type": "stream",
     "text": [
      "4.84335233361\n",
      "-389.833751444\n"
     ]
    }
   ],
   "source": [
    "print(under_azdias_transform_6['REGIOTYP'].mean())\n",
    "print(under_customer_transform_6['REGIOTYP'].mean())"
   ]
  },
  {
   "cell_type": "code",
   "execution_count": 179,
   "metadata": {},
   "outputs": [
    {
     "name": "stdout",
     "output_type": "stream",
     "text": [
      "3.29703392547\n",
      "-0.984139402121\n"
     ]
    }
   ],
   "source": [
    "print(under_azdias_transform_6['PLZ8_ANTG2'].mean())\n",
    "print(under_customer_transform_6['PLZ8_ANTG2'].mean())"
   ]
  },
  {
   "cell_type": "code",
   "execution_count": 181,
   "metadata": {},
   "outputs": [
    {
     "name": "stdout",
     "output_type": "stream",
     "text": [
      "54260\n",
      "158064\n"
     ]
    }
   ],
   "source": [
    "print(sum(pd.isnull(customers['REGIOTYP'])))\n",
    "print(sum(pd.isnull(azdias['REGIOTYP'])))"
   ]
  },
  {
   "cell_type": "markdown",
   "metadata": {},
   "source": [
    "### Discussion 3.3: Compare Customer Data to Demographics Data\n",
    "\n",
    "Clusters that are overrepresented are cluster 2 and 3. Also, cluster 6 is underrepresented and cluster 1 is not predicted in the customer data. Analayzing the clusters in these two demographics data sets shows that there is a noticable differences in common features like region, number of 3-5 family houses in PLZ8 and customers' wealth. Interestingly same features caused this issue for both over and under representation. \n",
    "\n",
    "Comparing the customer data to the population, it appears that the distribution of some features like REGIOTYP , PLZ8_ANTG2 and PLZ8_ANTG3 in these two data sets are different. That might be the reason the clusters did not predicted well. \n",
    "\n",
    "For example, the customer's neighborhood typology might be mostly from a special category like upper class than other levels. The second reason is that there is a clear difference in number of missing values in the datasets for these features. Probably the missing values should be treated differently instead of just being removed. \n"
   ]
  },
  {
   "cell_type": "markdown",
   "metadata": {},
   "source": [
    "> Congratulations on making it this far in the project! Before you finish, make sure to check through the entire notebook from top to bottom to make sure that your analysis follows a logical flow and all of your findings are documented in **Discussion** cells. Once you've checked over all of your work, you should export the notebook as an HTML document to submit for evaluation. You can do this from the menu, navigating to **File -> Download as -> HTML (.html)**. You will submit both that document and this notebook for your project submission."
   ]
  },
  {
   "cell_type": "code",
   "execution_count": null,
   "metadata": {},
   "outputs": [],
   "source": []
  }
 ],
 "metadata": {
  "kernelspec": {
   "display_name": "Python 3",
   "language": "python",
   "name": "python3"
  },
  "language_info": {
   "codemirror_mode": {
    "name": "ipython",
    "version": 3
   },
   "file_extension": ".py",
   "mimetype": "text/x-python",
   "name": "python",
   "nbconvert_exporter": "python",
   "pygments_lexer": "ipython3",
   "version": "3.6.3"
  }
 },
 "nbformat": 4,
 "nbformat_minor": 2
}
